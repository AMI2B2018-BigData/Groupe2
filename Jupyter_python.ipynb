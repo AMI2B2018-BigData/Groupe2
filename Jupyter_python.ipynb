{
 "cells": [
  {
   "cell_type": "markdown",
   "metadata": {},
   "source": [
    "# Apprentissage statistique : Classification"
   ]
  },
  {
   "cell_type": "markdown",
   "metadata": {},
   "source": [
    "### Importation des packages"
   ]
  },
  {
   "cell_type": "code",
   "execution_count": 1,
   "metadata": {},
   "outputs": [],
   "source": [
    "import csv\n",
    "import numpy as np\n",
    "import matplotlib.pyplot as plt\n",
    "import pandas as pd\n",
    "from scipy import stats as st\n",
    "from sklearn import preprocessing\n",
    "from sklearn import metrics\n",
    "from sklearn import linear_model\n",
    "from sklearn.model_selection import train_test_split\n",
    "from sklearn.ensemble import RandomForestClassifier\n",
    "from sklearn.model_selection import StratifiedKFold\n",
    "from sklearn.tree import DecisionTreeClassifier\n",
    "from sklearn.model_selection import GridSearchCV\n",
    "from sklearn import svm\n",
    "from sklearn.metrics import roc_curve, auc\n",
    "import statsmodels.api as sm\n",
    "import seaborn as sns\n",
    "from scipy import *\n",
    "sns.set(style=\"white\")\n",
    "sns.set(style=\"whitegrid\", color_codes=True)\n",
    "from tkinter import*\n",
    "from tkinter import filedialog"
   ]
  },
  {
   "cell_type": "code",
   "execution_count": 2,
   "metadata": {},
   "outputs": [],
   "source": [
    "import warnings\n",
    "warnings.filterwarnings(\"ignore\", category=FutureWarning)\n",
    "warnings.filterwarnings(\"ignore\",category=DeprecationWarning)"
   ]
  },
  {
   "cell_type": "code",
   "execution_count": 3,
   "metadata": {},
   "outputs": [
    {
     "name": "stdout",
     "output_type": "stream",
     "text": [
      "Indiquez la manière dont sont séparées vos variables (tabulation/espace/;) : ;\n",
      "Indiquez le nom de la variable d'intérêt : type\n",
      "Vos données ont-elles une variable identifiant pour les individus ? (y/n) : y\n",
      "Indiquez le nom de la variable identifiant : id\n",
      "Choisissez la forme sous laquelle vous voulez les résultats (erreur test/matrice de confusion/courbe ROC) : courbe roc\n"
     ]
    }
   ],
   "source": [
    "# Permet à l'utilisateur de choisir un fichier\n",
    "root = Tk()\n",
    "root.withdraw()\n",
    "root.call('wm', 'attributes', '.', '-topmost', True)\n",
    "input1 = filedialog.askopenfilename()\n",
    "%gui tk\n",
    "\n",
    "input2 = input(\"Indiquez la manière dont sont séparées vos variables (tabulation/espace/;) : \")   # ici espace\n",
    "# Passage en minuscule si l'utilisateur écrit en majuscule\n",
    "input2 = input2.lower() ;\n",
    "# Tant que l'utilisateur n'a pas rentré quelque chose de correct\n",
    "while not (input2 == 'tabulation' or input2 == 'espace' or input2 == ';') :\n",
    "    input2 = input(\"Veuillez entrer tabulation, espace ou ; : \")\n",
    "    input2 = input2.lower()\n",
    "\n",
    "# On met les vrais caractères pour pouvoir importer le fichier\n",
    "if input2 == 'tabulation' :\n",
    "    input2 = '\\t'\n",
    "elif input2 == 'espace' :\n",
    "    input2 = ' '\n",
    "\n",
    "# Importation du fichier\n",
    "file = open(input1, \"r\")\n",
    "dataset = pd.read_csv(file, sep=input2)\n",
    "\n",
    "# Récupération du noms des différentes variables\n",
    "title = list(dataset.columns)\n",
    "\n",
    "# Variable d'intérêt\n",
    "reponse = input(\"Indiquez le nom de la variable d'intérêt : \")   # ici : y\n",
    "while (reponse not in title) :\n",
    "    reponse = input(\"Cette variable n'existe pas ! Veuillez vérifier son nom et essayer à nouveau : \")\n",
    "    \n",
    "# Vérifier s'il y a une variable identifiant\n",
    "input3 = input(\"Vos données ont-elles une variable identifiant pour les individus ? (y/n) : \")     # ici : n\n",
    "# Passage en minuscule si l'utilisateur rentre Y ou N\n",
    "input3 = input3.lower() ;\n",
    "# Tant que l'utilisateur n'a pas rentré quelque chose de correct\n",
    "while not (input3 == 'y' or input3 == 'n') :\n",
    "    input3 = input(\"Veuillez entrer y ou n : \")\n",
    "    input3 = input3.lower()\n",
    "# S'il y en a une\n",
    "if input3 == 'y' :\n",
    "    input4 = input(\"Indiquez le nom de la variable identifiant : \")\n",
    "    while input4 not in title or input4 == reponse :\n",
    "        if input4 not in title :\n",
    "            input4 = input(\"Cette variable n'existe pas ! Veuillez vérifier son nom et essayer à nouveau : \")\n",
    "        elif input4 == reponse :\n",
    "            input4 = input(\"Il s'agit de la variable d'intérêt ! Veuillez vérifier et essayer à nouveau : \")\n",
    "    # On supprime cette variable\n",
    "    dataset = dataset.drop(input4, 1)\n",
    "\n",
    "# Suppression des instances ayant des données manquantes\n",
    "dataset = dataset.dropna(how = 'any')\n",
    "\n",
    "# Forme des résultats\n",
    "input6 = input(\"Choisissez la forme sous laquelle vous voulez les résultats (erreur test/matrice de confusion/courbe ROC) : \")\n",
    "# Passage en minuscule si l'utilisateur écrit en majuscule\n",
    "input6 = input6.lower() ;\n",
    "# Tant que l'utilisateur n'a pas rentré quelque chose de correct\n",
    "while not (input6 == 'erreur test' or input6 == 'matrice de confusion' or input6 == 'courbe roc') :\n",
    "    input6 = input(\"Veuillez entrer erreur test, matrice de confusion ou courbe ROC : \")\n",
    "    input6 = input6.lower()\n",
    "    \n",
    "# Nombre total d'instances\n",
    "total_rows = len(dataset)\n",
    "# Nombre total de variables\n",
    "total_columns = len(list(dataset))"
   ]
  },
  {
   "cell_type": "code",
   "execution_count": 4,
   "metadata": {},
   "outputs": [
    {
     "data": {
      "text/html": [
       "<div>\n",
       "<style scoped>\n",
       "    .dataframe tbody tr th:only-of-type {\n",
       "        vertical-align: middle;\n",
       "    }\n",
       "\n",
       "    .dataframe tbody tr th {\n",
       "        vertical-align: top;\n",
       "    }\n",
       "\n",
       "    .dataframe thead th {\n",
       "        text-align: right;\n",
       "    }\n",
       "</style>\n",
       "<table border=\"1\" class=\"dataframe\">\n",
       "  <thead>\n",
       "    <tr style=\"text-align: right;\">\n",
       "      <th></th>\n",
       "      <th>make</th>\n",
       "      <th>address</th>\n",
       "      <th>all</th>\n",
       "      <th>num3d</th>\n",
       "      <th>our</th>\n",
       "      <th>over</th>\n",
       "      <th>remove</th>\n",
       "      <th>internet</th>\n",
       "      <th>order</th>\n",
       "      <th>mail</th>\n",
       "      <th>...</th>\n",
       "      <th>charSemicolon</th>\n",
       "      <th>charRoundbracket</th>\n",
       "      <th>charSquarebracket</th>\n",
       "      <th>charExclamation</th>\n",
       "      <th>charDollar</th>\n",
       "      <th>charHash</th>\n",
       "      <th>capitalAve</th>\n",
       "      <th>capitalLong</th>\n",
       "      <th>capitalTotal</th>\n",
       "      <th>type</th>\n",
       "    </tr>\n",
       "  </thead>\n",
       "  <tbody>\n",
       "    <tr>\n",
       "      <th>0</th>\n",
       "      <td>0.00</td>\n",
       "      <td>0.00</td>\n",
       "      <td>0.00</td>\n",
       "      <td>0.0</td>\n",
       "      <td>0.00</td>\n",
       "      <td>0.00</td>\n",
       "      <td>0.00</td>\n",
       "      <td>0.00</td>\n",
       "      <td>0.00</td>\n",
       "      <td>0.00</td>\n",
       "      <td>...</td>\n",
       "      <td>0.0</td>\n",
       "      <td>0.000</td>\n",
       "      <td>0.0</td>\n",
       "      <td>0.000</td>\n",
       "      <td>0.000</td>\n",
       "      <td>0.000</td>\n",
       "      <td>3.000</td>\n",
       "      <td>16</td>\n",
       "      <td>33</td>\n",
       "      <td>spam</td>\n",
       "    </tr>\n",
       "    <tr>\n",
       "      <th>1</th>\n",
       "      <td>0.00</td>\n",
       "      <td>0.00</td>\n",
       "      <td>0.00</td>\n",
       "      <td>0.0</td>\n",
       "      <td>0.00</td>\n",
       "      <td>0.00</td>\n",
       "      <td>0.00</td>\n",
       "      <td>1.12</td>\n",
       "      <td>0.00</td>\n",
       "      <td>0.00</td>\n",
       "      <td>...</td>\n",
       "      <td>0.0</td>\n",
       "      <td>0.204</td>\n",
       "      <td>0.0</td>\n",
       "      <td>0.408</td>\n",
       "      <td>0.408</td>\n",
       "      <td>0.000</td>\n",
       "      <td>4.100</td>\n",
       "      <td>25</td>\n",
       "      <td>82</td>\n",
       "      <td>spam</td>\n",
       "    </tr>\n",
       "    <tr>\n",
       "      <th>2</th>\n",
       "      <td>0.00</td>\n",
       "      <td>0.00</td>\n",
       "      <td>0.48</td>\n",
       "      <td>0.0</td>\n",
       "      <td>0.48</td>\n",
       "      <td>0.00</td>\n",
       "      <td>0.00</td>\n",
       "      <td>0.48</td>\n",
       "      <td>0.00</td>\n",
       "      <td>0.00</td>\n",
       "      <td>...</td>\n",
       "      <td>0.0</td>\n",
       "      <td>0.084</td>\n",
       "      <td>0.0</td>\n",
       "      <td>0.084</td>\n",
       "      <td>0.761</td>\n",
       "      <td>0.000</td>\n",
       "      <td>5.322</td>\n",
       "      <td>46</td>\n",
       "      <td>165</td>\n",
       "      <td>spam</td>\n",
       "    </tr>\n",
       "    <tr>\n",
       "      <th>3</th>\n",
       "      <td>0.08</td>\n",
       "      <td>0.08</td>\n",
       "      <td>0.76</td>\n",
       "      <td>0.0</td>\n",
       "      <td>0.85</td>\n",
       "      <td>1.02</td>\n",
       "      <td>0.25</td>\n",
       "      <td>0.17</td>\n",
       "      <td>0.59</td>\n",
       "      <td>0.08</td>\n",
       "      <td>...</td>\n",
       "      <td>0.0</td>\n",
       "      <td>0.063</td>\n",
       "      <td>0.0</td>\n",
       "      <td>0.394</td>\n",
       "      <td>0.114</td>\n",
       "      <td>0.012</td>\n",
       "      <td>7.540</td>\n",
       "      <td>669</td>\n",
       "      <td>1410</td>\n",
       "      <td>spam</td>\n",
       "    </tr>\n",
       "    <tr>\n",
       "      <th>4</th>\n",
       "      <td>0.00</td>\n",
       "      <td>0.00</td>\n",
       "      <td>0.19</td>\n",
       "      <td>0.0</td>\n",
       "      <td>0.19</td>\n",
       "      <td>0.00</td>\n",
       "      <td>0.00</td>\n",
       "      <td>0.19</td>\n",
       "      <td>0.19</td>\n",
       "      <td>0.19</td>\n",
       "      <td>...</td>\n",
       "      <td>0.0</td>\n",
       "      <td>0.058</td>\n",
       "      <td>0.0</td>\n",
       "      <td>0.264</td>\n",
       "      <td>0.000</td>\n",
       "      <td>0.000</td>\n",
       "      <td>4.053</td>\n",
       "      <td>93</td>\n",
       "      <td>381</td>\n",
       "      <td>spam</td>\n",
       "    </tr>\n",
       "  </tbody>\n",
       "</table>\n",
       "<p>5 rows × 58 columns</p>\n",
       "</div>"
      ],
      "text/plain": [
       "   make  address   all  num3d   our  over  remove  internet  order  mail  \\\n",
       "0  0.00     0.00  0.00    0.0  0.00  0.00    0.00      0.00   0.00  0.00   \n",
       "1  0.00     0.00  0.00    0.0  0.00  0.00    0.00      1.12   0.00  0.00   \n",
       "2  0.00     0.00  0.48    0.0  0.48  0.00    0.00      0.48   0.00  0.00   \n",
       "3  0.08     0.08  0.76    0.0  0.85  1.02    0.25      0.17   0.59  0.08   \n",
       "4  0.00     0.00  0.19    0.0  0.19  0.00    0.00      0.19   0.19  0.19   \n",
       "\n",
       "   ...   charSemicolon  charRoundbracket  charSquarebracket  charExclamation  \\\n",
       "0  ...             0.0             0.000                0.0            0.000   \n",
       "1  ...             0.0             0.204                0.0            0.408   \n",
       "2  ...             0.0             0.084                0.0            0.084   \n",
       "3  ...             0.0             0.063                0.0            0.394   \n",
       "4  ...             0.0             0.058                0.0            0.264   \n",
       "\n",
       "   charDollar  charHash  capitalAve  capitalLong  capitalTotal  type  \n",
       "0       0.000     0.000       3.000           16            33  spam  \n",
       "1       0.408     0.000       4.100           25            82  spam  \n",
       "2       0.761     0.000       5.322           46           165  spam  \n",
       "3       0.114     0.012       7.540          669          1410  spam  \n",
       "4       0.000     0.000       4.053           93           381  spam  \n",
       "\n",
       "[5 rows x 58 columns]"
      ]
     },
     "execution_count": 4,
     "metadata": {},
     "output_type": "execute_result"
    }
   ],
   "source": [
    "dataset.head()"
   ]
  },
  {
   "cell_type": "code",
   "execution_count": 5,
   "metadata": {},
   "outputs": [],
   "source": [
    "y = dataset[reponse]\n",
    "y_values = list(y)"
   ]
  },
  {
   "cell_type": "markdown",
   "metadata": {},
   "source": [
    "Dimension de votre dataset"
   ]
  },
  {
   "cell_type": "code",
   "execution_count": 6,
   "metadata": {},
   "outputs": [
    {
     "name": "stdout",
     "output_type": "stream",
     "text": [
      "(500, 58)\n"
     ]
    }
   ],
   "source": [
    "print(dataset.shape)"
   ]
  },
  {
   "cell_type": "markdown",
   "metadata": {},
   "source": [
    "Visualisation du résumé de la variable d'intérêt"
   ]
  },
  {
   "cell_type": "code",
   "execution_count": 7,
   "metadata": {},
   "outputs": [
    {
     "name": "stdout",
     "output_type": "stream",
     "text": [
      "Différentes classes de la variable d'intérêt :  ['nonspam', 'spam']\n",
      "Nombre de classes :  2\n"
     ]
    }
   ],
   "source": [
    "y.describe()\n",
    "classe = list(set(y))\n",
    "nb_classe =  len(list(set(y))) # Taille de la liste contenant la variable d'intérêt sans doublon\n",
    "\n",
    "print(\"Différentes classes de la variable d'intérêt : \", classe)\n",
    "print(\"Nombre de classes : \", nb_classe)"
   ]
  },
  {
   "cell_type": "code",
   "execution_count": 8,
   "metadata": {},
   "outputs": [
    {
     "data": {
      "image/png": "[encoded data removed]",
      "text/plain": [
       "<Figure size 432x288 with 1 Axes>"
      ]
     },
     "metadata": {
      "needs_background": "light"
     },
     "output_type": "display_data"
    }
   ],
   "source": [
    "sns.countplot(x = reponse, data = dataset, palette = 'hls')\n",
    "plt.show()"
   ]
  },
  {
   "cell_type": "code",
   "execution_count": 9,
   "metadata": {},
   "outputs": [
    {
     "name": "stdout",
     "output_type": "stream",
     "text": [
      "Dimension du dataset d'apprentissage : (333, 58)\n",
      "Dimension du dataset de test : (166, 58)\n"
     ]
    }
   ],
   "source": [
    "# Division du dataset\n",
    "xTrain, xTest = train_test_split(dataset, train_size=int(total_rows*(2/3)), test_size=int(total_rows*(1/3)))\n",
    "# Vérifications\n",
    "print(\"Dimension du dataset d'apprentissage : \" + str(xTrain.shape))\n",
    "print(\"Dimension du dataset de test : \" + str(xTest.shape))"
   ]
  },
  {
   "cell_type": "code",
   "execution_count": 10,
   "metadata": {},
   "outputs": [
    {
     "name": "stdout",
     "output_type": "stream",
     "text": [
      "Dataset d'apprentissage : \n",
      "\n",
      "(333, 57)\n",
      "     make  address   all  num3d   our  over  remove  internet  order  mail  \\\n",
      "153   0.0     0.00  0.00    0.0  0.89   0.0    0.00      0.00    0.0  0.00   \n",
      "47    0.0     1.47  0.00    0.0  0.00   0.0    0.00      0.00    0.0  1.47   \n",
      "202   0.0     0.00  0.71    0.0  0.71   0.0    0.00      0.00    0.0  0.00   \n",
      "354   0.0     0.00  0.00    0.0  0.00   0.0    0.00      0.00    0.0  0.00   \n",
      "239   0.0     0.53  0.53    0.0  0.80   0.0    0.26      0.26    0.0  0.26   \n",
      "\n",
      "         ...       conference  charSemicolon  charRoundbracket  \\\n",
      "153      ...              0.0            0.0             0.121   \n",
      "47       ...              0.0            0.0             0.000   \n",
      "202      ...              0.0            0.0             0.000   \n",
      "354      ...              0.0            0.0             0.412   \n",
      "239      ...              0.0            0.0             0.000   \n",
      "\n",
      "     charSquarebracket  charExclamation  charDollar  charHash  capitalAve  \\\n",
      "153              0.000            1.336        0.00       0.0       6.611   \n",
      "47               0.000            0.000        0.00       0.0       2.333   \n",
      "202              0.256            0.128        0.00       0.0       1.779   \n",
      "354              0.000            0.000        0.00       0.0       2.206   \n",
      "239              0.000            0.000        0.04       0.0       2.779   \n",
      "\n",
      "     capitalLong  capitalTotal  \n",
      "153           51           238  \n",
      "47            12            21  \n",
      "202           11           105  \n",
      "354           19           128  \n",
      "239           21           164  \n",
      "\n",
      "[5 rows x 57 columns]\n",
      "\n",
      "Dataset test : \n",
      "\n",
      "(166, 57)\n",
      "     make  address   all  num3d   our  over  remove  internet  order  mail  \\\n",
      "287  0.00     0.00  0.00    0.0  2.04  0.00    0.00       0.0   0.00   0.0   \n",
      "156  0.73     0.00  0.36    0.0  0.36  0.36    1.10       0.0   0.00   0.0   \n",
      "157  0.00     0.66  0.66    0.0  1.33  0.33    0.33       0.0   0.33   0.0   \n",
      "325  0.00     0.00  0.28    0.0  0.84  0.00    0.00       0.0   0.00   0.0   \n",
      "78   0.00     0.00  0.00    0.0  0.00  0.00    2.10       0.0   0.00   0.0   \n",
      "\n",
      "         ...       conference  charSemicolon  charRoundbracket  \\\n",
      "287      ...              0.0            0.0             0.000   \n",
      "156      ...              0.0            0.0             0.186   \n",
      "157      ...              0.0            0.0             0.266   \n",
      "325      ...              0.0            0.0             0.000   \n",
      "78       ...              0.0            0.0             0.000   \n",
      "\n",
      "     charSquarebracket  charExclamation  charDollar  charHash  capitalAve  \\\n",
      "287                0.0            0.000       0.000       0.0       1.642   \n",
      "156                0.0            0.435       0.062       0.0       4.411   \n",
      "157                0.0            0.372       0.159       0.0       1.894   \n",
      "325                0.0            0.000       0.000       0.0       1.426   \n",
      "78                 0.0            0.000       0.000       0.0       2.695   \n",
      "\n",
      "     capitalLong  capitalTotal  \n",
      "287            4            23  \n",
      "156          190           300  \n",
      "157           14           161  \n",
      "325            7            97  \n",
      "78            15            62  \n",
      "\n",
      "[5 rows x 57 columns]\n"
     ]
    }
   ],
   "source": [
    "# Récupération des variables explicatives du dataset apprentissage et du dataset test\n",
    "XTrain = xTrain.iloc[:,:total_columns-1]\n",
    "XTest = xTest.iloc[:,:total_columns-1]\n",
    "# Vérification\n",
    "print(\"Dataset d'apprentissage : \\n\")\n",
    "print(XTrain.shape)\n",
    "print(XTrain.head())\n",
    "\n",
    "print(\"\\nDataset test : \\n\")\n",
    "print(XTest.shape)\n",
    "print(XTest.head())"
   ]
  },
  {
   "cell_type": "code",
   "execution_count": 11,
   "metadata": {},
   "outputs": [],
   "source": [
    "# Isolation de la variable d'intérêt\n",
    "yTrain = xTrain.iloc[:,total_columns-1]\n",
    "yTrain_values = list(yTrain)\n",
    "\n",
    "yTest = xTest.iloc[:,total_columns-1]\n",
    "yTest_values = list(yTest)"
   ]
  },
  {
   "cell_type": "code",
   "execution_count": 12,
   "metadata": {},
   "outputs": [
    {
     "data": {
      "image/png": "[encoded data removed]",
      "text/plain": [
       "<Figure size 432x288 with 1 Axes>"
      ]
     },
     "metadata": {
      "needs_background": "light"
     },
     "output_type": "display_data"
    },
    {
     "data": {
      "image/png": "[encoded data removed]",
      "text/plain": [
       "<Figure size 432x288 with 1 Axes>"
      ]
     },
     "metadata": {
      "needs_background": "light"
     },
     "output_type": "display_data"
    },
    {
     "data": {
      "text/plain": [
       "spam       85\n",
       "nonspam    81\n",
       "Name: type, dtype: int64"
      ]
     },
     "execution_count": 12,
     "metadata": {},
     "output_type": "execute_result"
    }
   ],
   "source": [
    "# Vérification que les classes soient bien réparties dans les 2 datasets\n",
    "\n",
    "# Dataset apprentissage\n",
    "    # /!\\ Représentation graphique ou juste afficher nb_occ, je sais pas\n",
    "sns.countplot(x = reponse, data = xTrain, palette = 'hls')\n",
    "plt.show()\n",
    "xTrain[reponse].value_counts()\n",
    "\n",
    "# Dataset test\n",
    "sns.countplot(x = reponse, data = xTest, palette = 'hls')\n",
    "plt.show()\n",
    "xTest[reponse].value_counts()"
   ]
  },
  {
   "cell_type": "code",
   "execution_count": 13,
   "metadata": {},
   "outputs": [],
   "source": [
    "# Regression logistique\n",
    "# Construction d'un objet permettant de réaliser une régression logistique\n",
    "logit_model=linear_model.LogisticRegression()\n",
    "logit_model.fit(XTrain,yTrain)\n",
    "pred_rl = logit_model.predict(XTest)\n",
    "\n",
    "# Performance du modèle\n",
    "score_glm = logit_model.score(XTest, yTest)"
   ]
  },
  {
   "cell_type": "code",
   "execution_count": 14,
   "metadata": {},
   "outputs": [
    {
     "name": "stdout",
     "output_type": "stream",
     "text": [
      "Best parameters: {'criterion': 'gini', 'max_features': 2, 'n_estimators': 100}\n",
      "Souhaitez vous afficher l'importance de chaque variable pour Random Forest ? (y/n) : n\n"
     ]
    }
   ],
   "source": [
    "# Random Forest\n",
    "# Traitement des données.\n",
    "# S'il s'agit de str pour la variable d'intérêt, il faut la convertir en int pour appliquer RandomForestClassifier\n",
    "yTrain_ = [0]*len(yTrain_values)\n",
    "for i in range(nb_classe):\n",
    "    for j in range(len(yTrain_values)):\n",
    "        if(yTrain_values[j]==classe[i]):\n",
    "            yTrain_[j]=i\n",
    "            \n",
    "yTest_ = [0]*len(yTest_values)\n",
    "for i in range(nb_classe):\n",
    "    for j in range(len(yTest_values)):\n",
    "        if(yTest_values[j]==classe[i]):\n",
    "            yTest_[j]=i\n",
    "            \n",
    "rf_model = RandomForestClassifier()\n",
    "\n",
    "# Etablissement des différents paramètres à tester\n",
    "parameter_grid = {'n_estimators': [10, 25, 50, 100],\n",
    "                  'criterion': ['gini', 'entropy'],\n",
    "                  'max_features': [1, 2, 3, 4]}\n",
    "\n",
    "# Cross Validation (on fait tourner 10 fois le modele sur differents découpage)\n",
    "cross_validation = StratifiedKFold(n_splits=10)\n",
    "\n",
    "# Sélection des meilleurs paramètres\n",
    "grid_search = GridSearchCV(rf_model,\n",
    "                           param_grid=parameter_grid,\n",
    "                           cv=cross_validation)\n",
    "\n",
    "grid_search.fit(XTrain, yTrain_)\n",
    "\n",
    "# Visualisation des meilleurs paramètres\n",
    "print('Best parameters: {}'.format(grid_search.best_params_))\n",
    "\n",
    "# Stockage des meilleurs paramètres\n",
    "nestim_best = grid_search.best_params_['n_estimators']\n",
    "criterion_best = grid_search.best_params_['criterion']\n",
    "max_features_best = grid_search.best_params_['max_features']\n",
    "\n",
    "# Mise en place du modèle avec les meilleurs paramètres\n",
    "rf_model = RandomForestClassifier(n_estimators = nestim_best, criterion = criterion_best, max_features = max_features_best)\n",
    "rf_model.fit(XTrain, yTrain_)\n",
    "pred_rf = list(rf_model.predict(XTest))\n",
    "pred_rf = np.array(pred_rf).reshape(-1,1)\n",
    "yTest_ = np.array(yTest_).reshape(-1,1)\n",
    "\n",
    "# Importance des variables - 0 quand elle n'apparaît pas dans l’arbre\n",
    "display_imp = input(\"Souhaitez vous afficher l'importance de chaque variable pour Random Forest ? (y/n) : \")\n",
    "if display_imp == 'y' :\n",
    "    # Importance des variables - 0 quand elle n'apparaît pas dans l’arbre\n",
    "    features = dataset.drop(reponse, axis = 1)\n",
    "    feature_list = list(features.columns)\n",
    "    # On récupère l'importance des variables\n",
    "    importances = list(rf_model.feature_importances_)\n",
    "    # Liste des tuples variable - importance\n",
    "    feature_importances = [(feature, round(importance, 4)) for feature, importance in zip(feature_list, importances)]\n",
    "    # Afficher les variables par ordre d'importance\n",
    "    feature_importances = sorted(feature_importances, key = lambda x: x[1], reverse = True)\n",
    "    # Affichage des tuples par ordre décroissant \n",
    "    [print('Variable: {:20} Importance: {}'.format(*pair)) for pair in feature_importances]\n",
    "\n",
    "# Performance du modèle\n",
    "score_rf = np.sum(pred_rf==yTest_)/len(pred_rf)"
   ]
  },
  {
   "cell_type": "code",
   "execution_count": 15,
   "metadata": {},
   "outputs": [
    {
     "name": "stdout",
     "output_type": "stream",
     "text": [
      "Meilleurs parametres: {'max_depth': 3, 'max_features': 4}\n",
      "Souhaitez vous afficher l'importance de chaque variable pour CART ? (y/n) : n\n"
     ]
    }
   ],
   "source": [
    "# Arbre CART\n",
    "cart_model = DecisionTreeClassifier()\n",
    "\n",
    "# Etablissement des différents paramètres à tester\n",
    "parameter_grid = {'max_depth': [1, 2, 3, 4, 5],\n",
    "                  'max_features': [1, 2, 3, 4]}\n",
    "\n",
    "# Cross Validation (on fait tourner 10 fois le modele sur differents découpage)\n",
    "cross_validation = StratifiedKFold(n_splits=10)\n",
    "\n",
    "# Sélection des meilleurs paramètres\n",
    "grid_search = GridSearchCV(cart_model,\n",
    "                           param_grid=parameter_grid,\n",
    "                           cv=cross_validation)\n",
    "grid_search.fit(XTrain, yTrain_)\n",
    "\n",
    "# Visualisation des meilleurs paramètres\n",
    "print('Meilleurs parametres: {}'.format(grid_search.best_params_))\n",
    "\n",
    "# Stockage des meilleurs paramètres\n",
    "max_depth_best = grid_search.best_params_['max_depth']\n",
    "max_features_best = grid_search.best_params_['max_features']\n",
    "\n",
    "# Mise en place du modèle avec les meilleurs paramètres\n",
    "cart_model = DecisionTreeClassifier(max_depth = max_depth_best, max_features = max_features_best)\n",
    "cart_model.fit(XTrain, yTrain_)\n",
    "pred_cart = list(cart_model.predict(XTest))\n",
    "pred_cart = np.array(pred_cart).reshape(-1,1)\n",
    "\n",
    "# Importance des variables - 0 quand elle n'apparaît pas dans l’arbre\n",
    "display_imp = input(\"Souhaitez vous afficher l'importance de chaque variable pour CART ? (y/n) : \")\n",
    "if display_imp == 'y' :\n",
    "    features = dataset.drop(reponse, axis = 1)\n",
    "    feature_list = list(features.columns)\n",
    "    # On récupère l'importance des variables\n",
    "    importances = list(cart_model.feature_importances_)\n",
    "    # Liste des tuples variable - importance\n",
    "    feature_importances = [(feature, round(importance, 4)) for feature, importance in zip(feature_list, importances)]\n",
    "    # Afficher les variables par ordre d'importance\n",
    "    feature_importances = sorted(feature_importances, key = lambda x: x[1], reverse = True)\n",
    "    # Affichage des tuples par ordre décroissant \n",
    "    [print('Variable: {:20} Importance: {}'.format(*pair)) for pair in feature_importances]\n",
    "\n",
    "# Performance du modèle\n",
    "score_cart = np.sum(pred_cart==yTest_)/len(pred_cart)"
   ]
  },
  {
   "cell_type": "code",
   "execution_count": null,
   "metadata": {},
   "outputs": [],
   "source": [
    "# SVM\n",
    "svm_model = svm.SVC()\n",
    "\n",
    "# Etablissement des différents paramètres à tester\n",
    "parameter_grid = {'gamma': [0.1, 1, 10],\n",
    "                  'kernel': ['linear', 'poly'],\n",
    "                  'C': [0.1, 1, 10]}\n",
    "\n",
    "# Cross Validation (on fait tourner 10 fois le modele sur differents découpage)\n",
    "cross_validation = StratifiedKFold(n_splits = 2)\n",
    "\n",
    "# Sélection des meilleurs paramètres\n",
    "grid_search = GridSearchCV(svm_model,\n",
    "                           param_grid = parameter_grid,\n",
    "                           cv = cross_validation)\n",
    "grid_search.fit(XTrain, yTrain_)\n",
    "\n",
    "# Visualisation des meilleurs paramètres\n",
    "print('Meilleurs parametres: {}'.format(grid_search.best_params_))\n",
    "\n",
    "# Stockage des meilleurs paramètres\n",
    "gamma_best = grid_search.best_params_['gamma']\n",
    "kernel_best = grid_search.best_params_['kernel']\n",
    "cs_best = grid_search.best_params_['C']\n",
    "\n",
    "# Mise en place du modèle avec les meilleurs paramètres\n",
    "svm_model = svm.SVC(gamma = gamma_best, kernel = kernel_best, C = cs_best, probability = True)\n",
    "svm_model.fit(XTrain, yTrain_)\n",
    "pred_svm = list(svm_model.predict(XTest))\n",
    "pred_svm = np.array(pred_svm).reshape(-1,1)\n",
    "\n",
    "# Performance du modèle\n",
    "score_svm = np.sum(pred_svm==yTest_)/len(pred_svm)"
   ]
  },
  {
   "cell_type": "code",
   "execution_count": null,
   "metadata": {
    "scrolled": false
   },
   "outputs": [],
   "source": [
    "# Affichage des résultats\n",
    "if input6 == 'erreur test' :\n",
    "    print(\"Précision de la Régression Logistique : \", round(score_glm*100,4), \"%\\n\")\n",
    "    print(\"Précision du Random Forest : \", round(score_rf*100,4), \"%\\n\")\n",
    "    print(\"Précision de l'arbre CART : \", round(score_cart*100,4), \"%\\n\")\n",
    "    print(\"Précision de SVM : \", round(score_svm*100,4), \"%\\n\")\n",
    "    \n",
    "    err = [round(score_glm*100,4),round(score_rf*100,4),round(score_cart*100,4),round(score_svm*100,4)]\n",
    "    ind = err.index(max(err))\n",
    "    "
   ]
  },
  {
   "cell_type": "code",
   "execution_count": null,
   "metadata": {},
   "outputs": [],
   "source": [
    "# Affichage des résultats sous forme de matrice de confusion\n",
    "if input6 == 'matrice de confusion' : \n",
    "    print(\"Matrice de confusion de la Régression Logistique:\")\n",
    "    cm_rl = metrics.confusion_matrix(yTest, pred_rl)\n",
    "    plt.figure(figsize=(nb_classe+2,nb_classe+2))\n",
    "    sns.heatmap(cm_rl, annot=True, fmt=\".2f\", linewidths=.3, square = True, cmap = \"PiYG\");\n",
    "    plt.ylabel('Observés');\n",
    "    plt.xlabel('Prédis');\n",
    "    title = 'Score de prédiction: {0}'.format(round(score_glm*100,4))\n",
    "    plt.title(title, size = 13)\n",
    "    plt.show()\n",
    "    \n",
    "    print(\"\\nMatrice de confusion du Random Forest:\")\n",
    "    cm_rf = metrics.confusion_matrix(yTest_, pred_rf)\n",
    "    plt.figure(figsize=(nb_classe+2,nb_classe+2))\n",
    "    sns.heatmap(cm_rf, annot=True, fmt=\".2f\", linewidths=.3, square = True, cmap = \"PiYG\");\n",
    "    plt.ylabel('Observés');\n",
    "    plt.xlabel('Prédis');\n",
    "    title = 'Score de prédiction: {0}'.format(round(score_rf*100,4))\n",
    "    plt.title(title, size = 13)\n",
    "    plt.show()\n",
    "    \n",
    "    print(\"\\nMatrice de confusion de CART:\")\n",
    "    cm_cart = metrics.confusion_matrix(yTest_, pred_cart)\n",
    "    plt.figure(figsize=(nb_classe+2,nb_classe+2))\n",
    "    sns.heatmap(cm_cart, annot=True, fmt=\".2f\", linewidths=.3, square = True, cmap = \"PiYG\");\n",
    "    plt.ylabel('Observés');\n",
    "    plt.xlabel('Prédis');\n",
    "    title = 'Score de prédiction: {0}'.format(round(score_cart*100,4))\n",
    "    plt.title(title, size = 13)\n",
    "    plt.show()\n",
    "    \n",
    "    print(\"\\nMatrice de confusion SVM :\")\n",
    "    cm_svm = metrics.confusion_matrix(yTest_, pred_svm)\n",
    "    plt.figure(figsize=(nb_classe+2,nb_classe+2))\n",
    "    sns.heatmap(cm_svm, annot=True, fmt=\".2f\", linewidths=.3, square = True, cmap = \"PiYG\");\n",
    "    plt.ylabel('Observés');\n",
    "    plt.xlabel('Prédis');\n",
    "    title = 'Score de prédiction: {0}'.format(round(score_svm*100,4))\n",
    "    plt.title(title, size = 13)\n",
    "    plt.show()\n",
    "    \n",
    "    err = [round(score_glm*100,4),round(score_rf*100,4),round(score_cart*100,4),round(score_svm*100,4)]\n",
    "    ind = err.index(max(err))"
   ]
  },
  {
   "cell_type": "code",
   "execution_count": null,
   "metadata": {},
   "outputs": [],
   "source": [
    "# Affichage des résultats sous forme de courbe ROC\n",
    "if input6 == 'courbe roc' :\n",
    "    probas_rl = logit_model.predict_proba(XTest)\n",
    "    # probas est une matrice de deux colonnes avec la proabilités d'appartenance à chaque classe\n",
    "    fpr_rl, tpr_rl, thresholds_rl = roc_curve(yTest_, probas_rl[:, 1])\n",
    "    roc_auc_rl = auc(fpr_rl, tpr_rl)\n",
    "    plt.plot(fpr_rl, tpr_rl, label='RL (aire = %0.2f)' % roc_auc_rl)\n",
    "    \n",
    "    probas_rf = rf_model.predict_proba(XTest)\n",
    "    fpr_rf, tpr_rf, thresholds_rf = roc_curve(yTest_, probas_rf[:, 1])\n",
    "    roc_auc_rf = auc(fpr_rf, tpr_rf)\n",
    "    plt.plot(fpr_rf, tpr_rf, label='RF (aire = %0.2f)' % roc_auc_rf)\n",
    "    \n",
    "    probas_cart = cart_model.predict_proba(XTest)\n",
    "    fpr_cart, tpr_cart, thresholds_cart = roc_curve(yTest_, probas_cart[:, 1])\n",
    "    roc_auc_cart = auc(fpr_cart, tpr_cart)\n",
    "    plt.plot(fpr_cart, tpr_cart, label='CART (aire = %0.2f)' % roc_auc_cart)\n",
    "    \n",
    "    probas_svm = svm_model.predict_proba(XTest)\n",
    "    fpr_svm, tpr_svm, thresholds_svm = roc_curve(yTest_, probas_svm[:, 1])\n",
    "    roc_auc_svm = auc(fpr_svm, tpr_svm)\n",
    "    plt.plot(fpr_svm, tpr_svm, label='SVM (aire = %0.2f)' % roc_auc_svm)\n",
    "    \n",
    "    plt.plot([0, 1], [0, 1], 'k--')\n",
    "    plt.xlim([0.0, 1.0])\n",
    "    plt.ylim([0.0, 1.0])\n",
    "    plt.xlabel('Taux de faux positifs')\n",
    "    plt.ylabel('Taux de vrais positifs')\n",
    "    plt.title('Courbe ROC ')\n",
    "    plt.legend(loc=\"lower right\")\n",
    "    \n",
    "    plt.show()\n",
    "    \n",
    "    err = [round(roc_auc_rl*100,4),round(roc_auc_rf*100,4),round(roc_auc_cart*100,4),round(roc_auc_svm*100,4)]\n",
    "    ind = err.index(max(err))"
   ]
  },
  {
   "cell_type": "code",
   "execution_count": null,
   "metadata": {},
   "outputs": [],
   "source": [
    "if ind == 0 :\n",
    "    print(\"La méthode utilisée pour la prédiction de votre dataset sera la Régression Logistique avec une précision de \", round(score_glm*100,2), \"% !\\n\")\n",
    "elif ind == 1 :\n",
    "    print(\"La méthode utilisée pour la prédiction de votre dataset sera Random Forest avec une précision de \", round(score_rf*100,2), \"% !\\n\")\n",
    "elif ind == 2 :   \n",
    "    print(\"La méthode utilisée pour la prédiction de votre dataset sera CART avec une précision de \", round(score_cart*100,2), \"% !\\n\")\n",
    "else :\n",
    "    print(\"La méthode utilisée pour la prédiction de votre dataset sera SVM  avec une précision de \", round(score_svm*100,2), \"% !\\n\")"
   ]
  },
  {
   "cell_type": "code",
   "execution_count": null,
   "metadata": {},
   "outputs": [],
   "source": [
    "# Permet à l'utilisateur de choisir le fichier à analyser\n",
    "# Create Tk root\n",
    "root = Tk()\n",
    "# Hide the main window\n",
    "root.withdraw()\n",
    "root.call('wm', 'attributes', '.', '-topmost', True)\n",
    "input8 = filedialog.askopenfilename()\n",
    "\n",
    "%gui tk\n",
    "\n",
    "# Importation du fichier\n",
    "file = open(input8, \"r\")\n",
    "dataset2 = pd.read_csv(file, sep=input2)\n",
    "if input3 == 'y':\n",
    "    dataset2 = dataset2.drop(input4, 1)\n",
    "\n",
    "# On cherche la méthode sélectionné et on effectue la prédiction à partir de ce modèle\n",
    "if ind == 0 :\n",
    "    pred = logit_model.predict(dataset2)\n",
    "elif ind == 1 :\n",
    "    pred = rf_model.predict(dataset2)\n",
    "elif ind == 2 :\n",
    "    pred = cart_model.predict(dataset2)\n",
    "else :\n",
    "    pred = svm_model.predict(dataset2)"
   ]
  },
  {
   "cell_type": "code",
   "execution_count": null,
   "metadata": {},
   "outputs": [],
   "source": [
    "# Enregistrement des prédictions dans un fichier\n",
    "# Ajout des prédictions au dataset\n",
    "dataset2[reponse] = pred\n",
    "dataset2.to_csv(\"output.csv\")"
   ]
  }
 ],
 "metadata": {
  "kernelspec": {
   "display_name": "Python 3",
   "language": "python",
   "name": "python3"
  },
  "language_info": {
   "codemirror_mode": {
    "name": "ipython",
    "version": 3
   },
   "file_extension": ".py",
   "mimetype": "text/x-python",
   "name": "python",
   "nbconvert_exporter": "python",
   "pygments_lexer": "ipython3",
   "version": "3.6.3"
  }
 },
 "nbformat": 4,
 "nbformat_minor": 2
}
