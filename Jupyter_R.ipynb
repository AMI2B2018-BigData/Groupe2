{
 "cells": [
  {
   "cell_type": "markdown",
   "metadata": {},
   "source": [
    "# Apprentissage statistique : Cas logistique\n",
    "## Langage R"
   ]
  },
  {
   "cell_type": "markdown",
   "metadata": {},
   "source": [
    "## Chargement des packages R necessaires pour executer ce script"
   ]
  },
  {
   "cell_type": "code",
   "execution_count": 21,
   "metadata": {},
   "outputs": [
    {
     "data": {
      "text/html": [
       "<table>\n",
       "<thead><tr><th scope=col>stringr</th><th scope=col>glmnet</th><th scope=col>randomForest</th><th scope=col>rpart</th><th scope=col>rpart.plot</th><th scope=col>e1071</th><th scope=col>ROCR</th><th scope=col>AUC</th></tr></thead>\n",
       "<tbody>\n",
       "\t<tr><td>AUC         </td><td>AUC         </td><td>AUC         </td><td>AUC         </td><td>AUC         </td><td>AUC         </td><td>AUC         </td><td>AUC         </td></tr>\n",
       "\t<tr><td>ROCR        </td><td>ROCR        </td><td>ROCR        </td><td>ROCR        </td><td>ROCR        </td><td>ROCR        </td><td>ROCR        </td><td>ROCR        </td></tr>\n",
       "\t<tr><td>gplots      </td><td>gplots      </td><td>gplots      </td><td>gplots      </td><td>gplots      </td><td>gplots      </td><td>gplots      </td><td>gplots      </td></tr>\n",
       "\t<tr><td>e1071       </td><td>e1071       </td><td>e1071       </td><td>e1071       </td><td>e1071       </td><td>e1071       </td><td>e1071       </td><td>e1071       </td></tr>\n",
       "\t<tr><td>rpart.plot  </td><td>rpart.plot  </td><td>rpart.plot  </td><td>rpart.plot  </td><td>rpart.plot  </td><td>rpart.plot  </td><td>rpart.plot  </td><td>rpart.plot  </td></tr>\n",
       "\t<tr><td>rpart       </td><td>rpart       </td><td>rpart       </td><td>rpart       </td><td>rpart       </td><td>rpart       </td><td>rpart       </td><td>rpart       </td></tr>\n",
       "\t<tr><td>randomForest</td><td>randomForest</td><td>randomForest</td><td>randomForest</td><td>randomForest</td><td>randomForest</td><td>randomForest</td><td>randomForest</td></tr>\n",
       "\t<tr><td>glmnet      </td><td>glmnet      </td><td>glmnet      </td><td>glmnet      </td><td>glmnet      </td><td>glmnet      </td><td>glmnet      </td><td>glmnet      </td></tr>\n",
       "\t<tr><td>foreach     </td><td>foreach     </td><td>foreach     </td><td>foreach     </td><td>foreach     </td><td>foreach     </td><td>foreach     </td><td>foreach     </td></tr>\n",
       "\t<tr><td>Matrix      </td><td>Matrix      </td><td>Matrix      </td><td>Matrix      </td><td>Matrix      </td><td>Matrix      </td><td>Matrix      </td><td>Matrix      </td></tr>\n",
       "\t<tr><td>stringr     </td><td>stringr     </td><td>stringr     </td><td>stringr     </td><td>stringr     </td><td>stringr     </td><td>stringr     </td><td>stringr     </td></tr>\n",
       "\t<tr><td>stats       </td><td>stats       </td><td>stats       </td><td>stats       </td><td>stats       </td><td>stats       </td><td>stats       </td><td>stats       </td></tr>\n",
       "\t<tr><td>graphics    </td><td>graphics    </td><td>graphics    </td><td>graphics    </td><td>graphics    </td><td>graphics    </td><td>graphics    </td><td>graphics    </td></tr>\n",
       "\t<tr><td>grDevices   </td><td>grDevices   </td><td>grDevices   </td><td>grDevices   </td><td>grDevices   </td><td>grDevices   </td><td>grDevices   </td><td>grDevices   </td></tr>\n",
       "\t<tr><td>utils       </td><td>utils       </td><td>utils       </td><td>utils       </td><td>utils       </td><td>utils       </td><td>utils       </td><td>utils       </td></tr>\n",
       "\t<tr><td>datasets    </td><td>datasets    </td><td>datasets    </td><td>datasets    </td><td>datasets    </td><td>datasets    </td><td>datasets    </td><td>datasets    </td></tr>\n",
       "\t<tr><td>methods     </td><td>methods     </td><td>methods     </td><td>methods     </td><td>methods     </td><td>methods     </td><td>methods     </td><td>methods     </td></tr>\n",
       "\t<tr><td>base        </td><td>base        </td><td>base        </td><td>base        </td><td>base        </td><td>base        </td><td>base        </td><td>base        </td></tr>\n",
       "</tbody>\n",
       "</table>\n"
      ],
      "text/latex": [
       "\\begin{tabular}{llllllll}\n",
       " stringr & glmnet & randomForest & rpart & rpart.plot & e1071 & ROCR & AUC\\\\\n",
       "\\hline\n",
       "\t AUC          & AUC          & AUC          & AUC          & AUC          & AUC          & AUC          & AUC         \\\\\n",
       "\t ROCR         & ROCR         & ROCR         & ROCR         & ROCR         & ROCR         & ROCR         & ROCR        \\\\\n",
       "\t gplots       & gplots       & gplots       & gplots       & gplots       & gplots       & gplots       & gplots      \\\\\n",
       "\t e1071        & e1071        & e1071        & e1071        & e1071        & e1071        & e1071        & e1071       \\\\\n",
       "\t rpart.plot   & rpart.plot   & rpart.plot   & rpart.plot   & rpart.plot   & rpart.plot   & rpart.plot   & rpart.plot  \\\\\n",
       "\t rpart        & rpart        & rpart        & rpart        & rpart        & rpart        & rpart        & rpart       \\\\\n",
       "\t randomForest & randomForest & randomForest & randomForest & randomForest & randomForest & randomForest & randomForest\\\\\n",
       "\t glmnet       & glmnet       & glmnet       & glmnet       & glmnet       & glmnet       & glmnet       & glmnet      \\\\\n",
       "\t foreach      & foreach      & foreach      & foreach      & foreach      & foreach      & foreach      & foreach     \\\\\n",
       "\t Matrix       & Matrix       & Matrix       & Matrix       & Matrix       & Matrix       & Matrix       & Matrix      \\\\\n",
       "\t stringr      & stringr      & stringr      & stringr      & stringr      & stringr      & stringr      & stringr     \\\\\n",
       "\t stats        & stats        & stats        & stats        & stats        & stats        & stats        & stats       \\\\\n",
       "\t graphics     & graphics     & graphics     & graphics     & graphics     & graphics     & graphics     & graphics    \\\\\n",
       "\t grDevices    & grDevices    & grDevices    & grDevices    & grDevices    & grDevices    & grDevices    & grDevices   \\\\\n",
       "\t utils        & utils        & utils        & utils        & utils        & utils        & utils        & utils       \\\\\n",
       "\t datasets     & datasets     & datasets     & datasets     & datasets     & datasets     & datasets     & datasets    \\\\\n",
       "\t methods      & methods      & methods      & methods      & methods      & methods      & methods      & methods     \\\\\n",
       "\t base         & base         & base         & base         & base         & base         & base         & base        \\\\\n",
       "\\end{tabular}\n"
      ],
      "text/markdown": [
       "\n",
       "stringr | glmnet | randomForest | rpart | rpart.plot | e1071 | ROCR | AUC | \n",
       "|---|---|---|---|---|---|---|---|---|---|---|---|---|---|---|---|---|---|\n",
       "| AUC          | AUC          | AUC          | AUC          | AUC          | AUC          | AUC          | AUC          | \n",
       "| ROCR         | ROCR         | ROCR         | ROCR         | ROCR         | ROCR         | ROCR         | ROCR         | \n",
       "| gplots       | gplots       | gplots       | gplots       | gplots       | gplots       | gplots       | gplots       | \n",
       "| e1071        | e1071        | e1071        | e1071        | e1071        | e1071        | e1071        | e1071        | \n",
       "| rpart.plot   | rpart.plot   | rpart.plot   | rpart.plot   | rpart.plot   | rpart.plot   | rpart.plot   | rpart.plot   | \n",
       "| rpart        | rpart        | rpart        | rpart        | rpart        | rpart        | rpart        | rpart        | \n",
       "| randomForest | randomForest | randomForest | randomForest | randomForest | randomForest | randomForest | randomForest | \n",
       "| glmnet       | glmnet       | glmnet       | glmnet       | glmnet       | glmnet       | glmnet       | glmnet       | \n",
       "| foreach      | foreach      | foreach      | foreach      | foreach      | foreach      | foreach      | foreach      | \n",
       "| Matrix       | Matrix       | Matrix       | Matrix       | Matrix       | Matrix       | Matrix       | Matrix       | \n",
       "| stringr      | stringr      | stringr      | stringr      | stringr      | stringr      | stringr      | stringr      | \n",
       "| stats        | stats        | stats        | stats        | stats        | stats        | stats        | stats        | \n",
       "| graphics     | graphics     | graphics     | graphics     | graphics     | graphics     | graphics     | graphics     | \n",
       "| grDevices    | grDevices    | grDevices    | grDevices    | grDevices    | grDevices    | grDevices    | grDevices    | \n",
       "| utils        | utils        | utils        | utils        | utils        | utils        | utils        | utils        | \n",
       "| datasets     | datasets     | datasets     | datasets     | datasets     | datasets     | datasets     | datasets     | \n",
       "| methods      | methods      | methods      | methods      | methods      | methods      | methods      | methods      | \n",
       "| base         | base         | base         | base         | base         | base         | base         | base         | \n",
       "\n",
       "\n"
      ],
      "text/plain": [
       "      stringr      glmnet       randomForest rpart        rpart.plot  \n",
       " [1,] AUC          AUC          AUC          AUC          AUC         \n",
       " [2,] ROCR         ROCR         ROCR         ROCR         ROCR        \n",
       " [3,] gplots       gplots       gplots       gplots       gplots      \n",
       " [4,] e1071        e1071        e1071        e1071        e1071       \n",
       " [5,] rpart.plot   rpart.plot   rpart.plot   rpart.plot   rpart.plot  \n",
       " [6,] rpart        rpart        rpart        rpart        rpart       \n",
       " [7,] randomForest randomForest randomForest randomForest randomForest\n",
       " [8,] glmnet       glmnet       glmnet       glmnet       glmnet      \n",
       " [9,] foreach      foreach      foreach      foreach      foreach     \n",
       "[10,] Matrix       Matrix       Matrix       Matrix       Matrix      \n",
       "[11,] stringr      stringr      stringr      stringr      stringr     \n",
       "[12,] stats        stats        stats        stats        stats       \n",
       "[13,] graphics     graphics     graphics     graphics     graphics    \n",
       "[14,] grDevices    grDevices    grDevices    grDevices    grDevices   \n",
       "[15,] utils        utils        utils        utils        utils       \n",
       "[16,] datasets     datasets     datasets     datasets     datasets    \n",
       "[17,] methods      methods      methods      methods      methods     \n",
       "[18,] base         base         base         base         base        \n",
       "      e1071        ROCR         AUC         \n",
       " [1,] AUC          AUC          AUC         \n",
       " [2,] ROCR         ROCR         ROCR        \n",
       " [3,] gplots       gplots       gplots      \n",
       " [4,] e1071        e1071        e1071       \n",
       " [5,] rpart.plot   rpart.plot   rpart.plot  \n",
       " [6,] rpart        rpart        rpart       \n",
       " [7,] randomForest randomForest randomForest\n",
       " [8,] glmnet       glmnet       glmnet      \n",
       " [9,] foreach      foreach      foreach     \n",
       "[10,] Matrix       Matrix       Matrix      \n",
       "[11,] stringr      stringr      stringr     \n",
       "[12,] stats        stats        stats       \n",
       "[13,] graphics     graphics     graphics    \n",
       "[14,] grDevices    grDevices    grDevices   \n",
       "[15,] utils        utils        utils       \n",
       "[16,] datasets     datasets     datasets    \n",
       "[17,] methods      methods      methods     \n",
       "[18,] base         base         base        "
      ]
     },
     "metadata": {},
     "output_type": "display_data"
    }
   ],
   "source": [
    "rm(list=ls()) # Standard code to clear R's memory\n",
    "\n",
    "list.of.packages <- c(\"stringr\", \"glmnet\", \"randomForest\", \"rpart\", \"rpart.plot\", \"e1071\", \"ROCR\", \"AUC\")\n",
    "new.packages <- list.of.packages[!(list.of.packages %in% installed.packages()[,\"Package\"])]\n",
    "if(length(new.packages)) install.packages(new.packages, repos='https://cran.univ-paris1.fr/', quiet = TRUE)\n",
    "\n",
    "sapply(list.of.packages, library, character.only = TRUE)"
   ]
  },
  {
   "cell_type": "markdown",
   "metadata": {},
   "source": [
    "# Importation des donnees :"
   ]
  },
  {
   "cell_type": "code",
   "execution_count": 22,
   "metadata": {},
   "outputs": [
    {
     "name": "stdout",
     "output_type": "stream",
     "text": [
      "Enter the type of separator (;/,/tab/space) :;\n",
      "[1] \";\"\n"
     ]
    }
   ],
   "source": [
    "filepath = file.choose(new = FALSE)\n",
    "sep = readline(prompt = \"Enter the type of separator (;/,/tab/space) :\")\n",
    "sep = str_to_lower(sep)\n",
    "while (sep != 'tab' && sep != 'space' && sep != ';' && sep != ',') {\n",
    "    sep = readline(prompt = \"Enter the type of separator (;/,/tab/space) :\")\n",
    "    sep = str_to_lower(sep)\n",
    "}\n",
    "if (sep == 'tab') {\n",
    "    sep = '\\t'\n",
    "} else if (sep == 'space') {\n",
    "    sep = ' '\n",
    "}\n",
    "print(sep)"
   ]
  },
  {
   "cell_type": "code",
   "execution_count": 23,
   "metadata": {},
   "outputs": [],
   "source": [
    "#filepath = \"spam.csv\" # filepath of your dataset\n",
    "data = read.table(file = filepath, header = TRUE, sep = sep)"
   ]
  },
  {
   "cell_type": "code",
   "execution_count": 24,
   "metadata": {},
   "outputs": [],
   "source": [
    "total_rows = nrow(data)\n",
    "total_columns = ncol(data)\n",
    "title = names(data) # Récupération du noms des différentes variables"
   ]
  },
  {
   "cell_type": "markdown",
   "metadata": {},
   "source": [
    "## Analyse descriptive"
   ]
  },
  {
   "cell_type": "code",
   "execution_count": 25,
   "metadata": {},
   "outputs": [
    {
     "data": {
      "text/html": [
       "<table>\n",
       "<thead><tr><th scope=col>id</th><th scope=col>make</th><th scope=col>address</th><th scope=col>all</th><th scope=col>num3d</th><th scope=col>our</th><th scope=col>over</th><th scope=col>remove</th><th scope=col>internet</th><th scope=col>order</th><th scope=col>...</th><th scope=col>charSemicolon</th><th scope=col>charRoundbracket</th><th scope=col>charSquarebracket</th><th scope=col>charExclamation</th><th scope=col>charDollar</th><th scope=col>charHash</th><th scope=col>capitalAve</th><th scope=col>capitalLong</th><th scope=col>capitalTotal</th><th scope=col>type</th></tr></thead>\n",
       "<tbody>\n",
       "\t<tr><td>501  </td><td>0.00 </td><td>0.00 </td><td>0.00 </td><td>0    </td><td>0.00 </td><td>0.00 </td><td>0.00 </td><td>0.00 </td><td>0.00 </td><td>...  </td><td>0    </td><td>0.000</td><td>0    </td><td>0.000</td><td>0.000</td><td>0.000</td><td>3.000</td><td> 16  </td><td>  33 </td><td>spam </td></tr>\n",
       "\t<tr><td>502  </td><td>0.00 </td><td>0.00 </td><td>0.00 </td><td>0    </td><td>0.00 </td><td>0.00 </td><td>0.00 </td><td>1.12 </td><td>0.00 </td><td>...  </td><td>0    </td><td>0.204</td><td>0    </td><td>0.408</td><td>0.408</td><td>0.000</td><td>4.100</td><td> 25  </td><td>  82 </td><td>spam </td></tr>\n",
       "\t<tr><td>503  </td><td>0.00 </td><td>0.00 </td><td>0.48 </td><td>0    </td><td>0.48 </td><td>0.00 </td><td>0.00 </td><td>0.48 </td><td>0.00 </td><td>...  </td><td>0    </td><td>0.084</td><td>0    </td><td>0.084</td><td>0.761</td><td>0.000</td><td>5.322</td><td> 46  </td><td> 165 </td><td>spam </td></tr>\n",
       "\t<tr><td>504  </td><td>0.08 </td><td>0.08 </td><td>0.76 </td><td>0    </td><td>0.85 </td><td>1.02 </td><td>0.25 </td><td>0.17 </td><td>0.59 </td><td>...  </td><td>0    </td><td>0.063</td><td>0    </td><td>0.394</td><td>0.114</td><td>0.012</td><td>7.540</td><td>669  </td><td>1410 </td><td>spam </td></tr>\n",
       "\t<tr><td>505  </td><td>0.00 </td><td>0.00 </td><td>0.19 </td><td>0    </td><td>0.19 </td><td>0.00 </td><td>0.00 </td><td>0.19 </td><td>0.19 </td><td>...  </td><td>0    </td><td>0.058</td><td>0    </td><td>0.264</td><td>0.000</td><td>0.000</td><td>4.053</td><td> 93  </td><td> 381 </td><td>spam </td></tr>\n",
       "\t<tr><td>506  </td><td>0.00 </td><td>0.35 </td><td>0.35 </td><td>0    </td><td>1.07 </td><td>0.00 </td><td>0.00 </td><td>0.35 </td><td>0.00 </td><td>...  </td><td>0    </td><td>0.233</td><td>0    </td><td>0.233</td><td>0.233</td><td>0.000</td><td>3.414</td><td> 25  </td><td> 140 </td><td>spam </td></tr>\n",
       "</tbody>\n",
       "</table>\n"
      ],
      "text/latex": [
       "\\begin{tabular}{r|lllllllllllllllllllllllllllllllllllllllllllllllllllllllllll}\n",
       " id & make & address & all & num3d & our & over & remove & internet & order & ... & charSemicolon & charRoundbracket & charSquarebracket & charExclamation & charDollar & charHash & capitalAve & capitalLong & capitalTotal & type\\\\\n",
       "\\hline\n",
       "\t 501   & 0.00  & 0.00  & 0.00  & 0     & 0.00  & 0.00  & 0.00  & 0.00  & 0.00  & ...   & 0     & 0.000 & 0     & 0.000 & 0.000 & 0.000 & 3.000 &  16   &   33  & spam \\\\\n",
       "\t 502   & 0.00  & 0.00  & 0.00  & 0     & 0.00  & 0.00  & 0.00  & 1.12  & 0.00  & ...   & 0     & 0.204 & 0     & 0.408 & 0.408 & 0.000 & 4.100 &  25   &   82  & spam \\\\\n",
       "\t 503   & 0.00  & 0.00  & 0.48  & 0     & 0.48  & 0.00  & 0.00  & 0.48  & 0.00  & ...   & 0     & 0.084 & 0     & 0.084 & 0.761 & 0.000 & 5.322 &  46   &  165  & spam \\\\\n",
       "\t 504   & 0.08  & 0.08  & 0.76  & 0     & 0.85  & 1.02  & 0.25  & 0.17  & 0.59  & ...   & 0     & 0.063 & 0     & 0.394 & 0.114 & 0.012 & 7.540 & 669   & 1410  & spam \\\\\n",
       "\t 505   & 0.00  & 0.00  & 0.19  & 0     & 0.19  & 0.00  & 0.00  & 0.19  & 0.19  & ...   & 0     & 0.058 & 0     & 0.264 & 0.000 & 0.000 & 4.053 &  93   &  381  & spam \\\\\n",
       "\t 506   & 0.00  & 0.35  & 0.35  & 0     & 1.07  & 0.00  & 0.00  & 0.35  & 0.00  & ...   & 0     & 0.233 & 0     & 0.233 & 0.233 & 0.000 & 3.414 &  25   &  140  & spam \\\\\n",
       "\\end{tabular}\n"
      ],
      "text/markdown": [
       "\n",
       "id | make | address | all | num3d | our | over | remove | internet | order | ... | charSemicolon | charRoundbracket | charSquarebracket | charExclamation | charDollar | charHash | capitalAve | capitalLong | capitalTotal | type | \n",
       "|---|---|---|---|---|---|\n",
       "| 501   | 0.00  | 0.00  | 0.00  | 0     | 0.00  | 0.00  | 0.00  | 0.00  | 0.00  | ...   | 0     | 0.000 | 0     | 0.000 | 0.000 | 0.000 | 3.000 |  16   |   33  | spam  | \n",
       "| 502   | 0.00  | 0.00  | 0.00  | 0     | 0.00  | 0.00  | 0.00  | 1.12  | 0.00  | ...   | 0     | 0.204 | 0     | 0.408 | 0.408 | 0.000 | 4.100 |  25   |   82  | spam  | \n",
       "| 503   | 0.00  | 0.00  | 0.48  | 0     | 0.48  | 0.00  | 0.00  | 0.48  | 0.00  | ...   | 0     | 0.084 | 0     | 0.084 | 0.761 | 0.000 | 5.322 |  46   |  165  | spam  | \n",
       "| 504   | 0.08  | 0.08  | 0.76  | 0     | 0.85  | 1.02  | 0.25  | 0.17  | 0.59  | ...   | 0     | 0.063 | 0     | 0.394 | 0.114 | 0.012 | 7.540 | 669   | 1410  | spam  | \n",
       "| 505   | 0.00  | 0.00  | 0.19  | 0     | 0.19  | 0.00  | 0.00  | 0.19  | 0.19  | ...   | 0     | 0.058 | 0     | 0.264 | 0.000 | 0.000 | 4.053 |  93   |  381  | spam  | \n",
       "| 506   | 0.00  | 0.35  | 0.35  | 0     | 1.07  | 0.00  | 0.00  | 0.35  | 0.00  | ...   | 0     | 0.233 | 0     | 0.233 | 0.233 | 0.000 | 3.414 |  25   |  140  | spam  | \n",
       "\n",
       "\n"
      ],
      "text/plain": [
       "  id  make address all  num3d our  over remove internet order ... charSemicolon\n",
       "1 501 0.00 0.00    0.00 0     0.00 0.00 0.00   0.00     0.00  ... 0            \n",
       "2 502 0.00 0.00    0.00 0     0.00 0.00 0.00   1.12     0.00  ... 0            \n",
       "3 503 0.00 0.00    0.48 0     0.48 0.00 0.00   0.48     0.00  ... 0            \n",
       "4 504 0.08 0.08    0.76 0     0.85 1.02 0.25   0.17     0.59  ... 0            \n",
       "5 505 0.00 0.00    0.19 0     0.19 0.00 0.00   0.19     0.19  ... 0            \n",
       "6 506 0.00 0.35    0.35 0     1.07 0.00 0.00   0.35     0.00  ... 0            \n",
       "  charRoundbracket charSquarebracket charExclamation charDollar charHash\n",
       "1 0.000            0                 0.000           0.000      0.000   \n",
       "2 0.204            0                 0.408           0.408      0.000   \n",
       "3 0.084            0                 0.084           0.761      0.000   \n",
       "4 0.063            0                 0.394           0.114      0.012   \n",
       "5 0.058            0                 0.264           0.000      0.000   \n",
       "6 0.233            0                 0.233           0.233      0.000   \n",
       "  capitalAve capitalLong capitalTotal type\n",
       "1 3.000       16           33         spam\n",
       "2 4.100       25           82         spam\n",
       "3 5.322       46          165         spam\n",
       "4 7.540      669         1410         spam\n",
       "5 4.053       93          381         spam\n",
       "6 3.414       25          140         spam"
      ]
     },
     "metadata": {},
     "output_type": "display_data"
    }
   ],
   "source": [
    "head(data)"
   ]
  },
  {
   "cell_type": "code",
   "execution_count": 26,
   "metadata": {},
   "outputs": [
    {
     "name": "stdout",
     "output_type": "stream",
     "text": [
      "Enter the exact name of the response variable :type\n",
      "[1] \"type\"\n"
     ]
    }
   ],
   "source": [
    "y = readline(prompt = \"Enter the exact name of the response variable :\")\n",
    "while (!(y %in% title))\n",
    "{\n",
    "  y <- readline(prompt = \"This variable doesn't exist! Please make sure to enter the exact name: \")\n",
    "}\n",
    "print(y)"
   ]
  },
  {
   "cell_type": "code",
   "execution_count": 27,
   "metadata": {},
   "outputs": [
    {
     "name": "stdout",
     "output_type": "stream",
     "text": [
      "Vos données ont-elles une variable identifiant pour les individus ? (y/n) : y\n",
      "Indiquez le nom de la variable identifiant : id\n"
     ]
    }
   ],
   "source": [
    "# Vérifier s'il y a une variable identifiant\n",
    "input4 = readline(prompt = \"Vos données ont-elles une variable identifiant pour les individus ? (y/n) : \")     # ici : n\n",
    "# Passage en minuscule si l'utilisateur rentre Y ou N\n",
    "input4 = str_to_lower(input4)\n",
    "# Tant que l'utilisateur n'a pas rentré quelque chose de correct\n",
    "while (input4 != 'y' && input4 != 'n')\n",
    "{\n",
    "  input4 = readline(prompt = \"Veuillez entrer y ou n : \")\n",
    "  input4 = str_to_lower(input4)\n",
    "}\n",
    "# S'il y en a une\n",
    "if (input4 == 'y')\n",
    "{\n",
    "  input5 = readline(prompt = \"Indiquez le nom de la variable identifiant : \")\n",
    "  while (!(input5 %in% title) || input5 == y)\n",
    "  {\n",
    "    if (!(input5 %in% title))\n",
    "    {\n",
    "          input5 = readline(prompt = \"Cette variable n'existe pas ! Veuillez vérifier son nom et essayer à nouveau : \")\n",
    "    } else if (input5 == y)\n",
    "    {\n",
    "      input5 = readline(prompt = \"Il s'agit de la variable d'intérêt ! Veuillez vérifier et essayer à nouveau : \")\n",
    "    }\n",
    "    # On supprime cette variable\n",
    "  }\n",
    "  data = data[, ! names(data) %in% input5, drop = F]\n",
    "  total_columns = total_columns-1\n",
    "}"
   ]
  },
  {
   "cell_type": "code",
   "execution_count": 28,
   "metadata": {},
   "outputs": [],
   "source": [
    "y = data[y]\n",
    "y_values = list(y)"
   ]
  },
  {
   "cell_type": "raw",
   "metadata": {},
   "source": [
    "Dimension de votre dataset"
   ]
  },
  {
   "cell_type": "code",
   "execution_count": 29,
   "metadata": {},
   "outputs": [
    {
     "name": "stdout",
     "output_type": "stream",
     "text": [
      "500 58"
     ]
    }
   ],
   "source": [
    "cat(dim(data))"
   ]
  },
  {
   "cell_type": "raw",
   "metadata": {},
   "source": [
    "Visualisation du résumé de la variable d'intérêt"
   ]
  },
  {
   "cell_type": "code",
   "execution_count": 30,
   "metadata": {},
   "outputs": [
    {
     "name": "stdout",
     "output_type": "stream",
     "text": [
      "Différentes classes de la variable d'intérêt : "
     ]
    },
    {
     "data": {
      "text/plain": [
       "y\n",
       "nonspam    spam \n",
       "    250     250 "
      ]
     },
     "metadata": {},
     "output_type": "display_data"
    },
    {
     "name": "stdout",
     "output_type": "stream",
     "text": [
      "Nombre de classes :  2"
     ]
    }
   ],
   "source": [
    "classe = table(y)\n",
    "nb_classe = length(classe)\n",
    "\n",
    "cat(\"Différentes classes de la variable d'intérêt : \")\n",
    "classe\n",
    "cat(\"Nombre de classes : \", nb_classe)"
   ]
  },
  {
   "cell_type": "code",
   "execution_count": 31,
   "metadata": {
    "scrolled": true
   },
   "outputs": [
    {
     "name": "stdout",
     "output_type": "stream",
     "text": [
      "Comment sont représentées les données manquantes dans votre dataset (s'il y en a) : NA\n",
      "Nombre d'éléments manquants =  0\n",
      "Nombre d'éléments dans la matrice =  29000\n",
      "Ratio =  0"
     ]
    }
   ],
   "source": [
    "input6 = readline(prompt = \"Comment sont représentées les données manquantes dans votre dataset (s'il y en a) : \")\n",
    "# Recherche du nombre de données manquantes dans la matrice du dataset\n",
    "matrice_dataset = as.matrix(data)\n",
    "nb_NaN = 0\n",
    "for (i in 1:nrow(matrice_dataset))\n",
    "{\n",
    "    for (j in 1:ncol(matrice_dataset))\n",
    "    {\n",
    "        if (matrice_dataset[i,j] == input6)\n",
    "        {\n",
    "            nb_NaN = nb_NaN+1\n",
    "        }\n",
    "    }\n",
    "}\n",
    "cat(\"Nombre d'éléments manquants = \" , nb_NaN)\n",
    "cat(\"\\nNombre d'éléments dans la matrice = \", length(matrice_dataset))\n",
    "cat(\"\\nRatio = \",nb_NaN/length(matrice_dataset))"
   ]
  },
  {
   "cell_type": "markdown",
   "metadata": {},
   "source": [
    "### Répartition de la variable d'intérêt"
   ]
  },
  {
   "cell_type": "code",
   "execution_count": 32,
   "metadata": {
    "scrolled": true
   },
   "outputs": [
    {
     "data": {
      "image/png": "[encoded data removed]",
      "text/plain": [
       "plot without title"
      ]
     },
     "metadata": {},
     "output_type": "display_data"
    }
   ],
   "source": [
    "tbl <- with(data, table(y))\n",
    "barplot(tbl, beside = TRUE, col = c(\"#F5A9A9\", \"#A9D0F5\"), xlab = y, ylab = \"count\")"
   ]
  },
  {
   "cell_type": "code",
   "execution_count": 33,
   "metadata": {},
   "outputs": [
    {
     "name": "stdout",
     "output_type": "stream",
     "text": [
      "Dimension du dataset d'apprentissage :  333 58\n",
      "Dimension du dataset de test :  167 58"
     ]
    }
   ],
   "source": [
    "# On code la variable comme un facteur pour pouvoir implémenter les méthodes\n",
    "y <- factor(unlist(y))\n",
    "\n",
    "set.seed(1234)\n",
    "# Division du dataset\n",
    "index <- sample(1:total_rows, total_rows*(2/3)) \n",
    "xTrain = data[index,]\n",
    "xTest =  data[-index,]\n",
    "# Vérifications\n",
    "cat(\"Dimension du dataset d'apprentissage : \", dim(xTrain))\n",
    "cat(\"\\nDimension du dataset de test : \", dim(xTest))"
   ]
  },
  {
   "cell_type": "code",
   "execution_count": 34,
   "metadata": {},
   "outputs": [
    {
     "name": "stdout",
     "output_type": "stream",
     "text": [
      "Dataset d'apprentissage :  333 57"
     ]
    },
    {
     "data": {
      "text/html": [
       "<table>\n",
       "<thead><tr><th></th><th scope=col>make</th><th scope=col>address</th><th scope=col>all</th><th scope=col>num3d</th><th scope=col>our</th><th scope=col>over</th><th scope=col>remove</th><th scope=col>internet</th><th scope=col>order</th><th scope=col>mail</th><th scope=col>...</th><th scope=col>conference</th><th scope=col>charSemicolon</th><th scope=col>charRoundbracket</th><th scope=col>charSquarebracket</th><th scope=col>charExclamation</th><th scope=col>charDollar</th><th scope=col>charHash</th><th scope=col>capitalAve</th><th scope=col>capitalLong</th><th scope=col>capitalTotal</th></tr></thead>\n",
       "<tbody>\n",
       "\t<tr><th scope=row>57</th><td>0.33 </td><td>0.16 </td><td>0.33 </td><td>0    </td><td>0.00 </td><td>0.16 </td><td>0    </td><td>0.16 </td><td>0.16 </td><td>0.08 </td><td>...  </td><td>0    </td><td>0.000</td><td>0.000</td><td>0.000</td><td>0.213</td><td>0.113</td><td>0    </td><td>3.150</td><td>76   </td><td>441  </td></tr>\n",
       "\t<tr><th scope=row>311</th><td>0.00 </td><td>0.00 </td><td>0.00 </td><td>0    </td><td>0.00 </td><td>0.00 </td><td>0    </td><td>0.00 </td><td>0.00 </td><td>0.00 </td><td>...  </td><td>0    </td><td>0.000</td><td>0.000</td><td>0.000</td><td>0.000</td><td>0.000</td><td>0    </td><td>1.000</td><td> 1   </td><td>  7  </td></tr>\n",
       "\t<tr><th scope=row>304</th><td>0.00 </td><td>0.00 </td><td>0.00 </td><td>0    </td><td>0.00 </td><td>0.00 </td><td>0    </td><td>0.00 </td><td>0.00 </td><td>0.00 </td><td>...  </td><td>0    </td><td>0.000</td><td>0.507</td><td>0.000</td><td>0.000</td><td>0.000</td><td>0    </td><td>1.133</td><td> 3   </td><td> 17  </td></tr>\n",
       "\t<tr><th scope=row>310</th><td>0.46 </td><td>0.00 </td><td>0.00 </td><td>0    </td><td>0.00 </td><td>0.00 </td><td>0    </td><td>0.00 </td><td>0.00 </td><td>0.00 </td><td>...  </td><td>0    </td><td>0.000</td><td>0.125</td><td>0.000</td><td>0.000</td><td>0.000</td><td>0    </td><td>1.510</td><td>10   </td><td> 74  </td></tr>\n",
       "\t<tr><th scope=row>428</th><td>0.00 </td><td>0.00 </td><td>0.00 </td><td>0    </td><td>0.00 </td><td>0.00 </td><td>0    </td><td>0.00 </td><td>0.00 </td><td>0.00 </td><td>...  </td><td>0    </td><td>0.102</td><td>0.308</td><td>0.000</td><td>0.000</td><td>0.000</td><td>0    </td><td>1.400</td><td>10   </td><td> 77  </td></tr>\n",
       "\t<tr><th scope=row>317</th><td>0.00 </td><td>0.00 </td><td>1.33 </td><td>0    </td><td>1.33 </td><td>0.00 </td><td>0    </td><td>0.00 </td><td>0.00 </td><td>0.00 </td><td>...  </td><td>0    </td><td>0.865</td><td>0.000</td><td>0.216</td><td>0.000</td><td>0.000</td><td>0    </td><td>1.647</td><td>12   </td><td> 28  </td></tr>\n",
       "</tbody>\n",
       "</table>\n"
      ],
      "text/latex": [
       "\\begin{tabular}{r|lllllllllllllllllllllllllllllllllllllllllllllllllllllllll}\n",
       "  & make & address & all & num3d & our & over & remove & internet & order & mail & ... & conference & charSemicolon & charRoundbracket & charSquarebracket & charExclamation & charDollar & charHash & capitalAve & capitalLong & capitalTotal\\\\\n",
       "\\hline\n",
       "\t57 & 0.33  & 0.16  & 0.33  & 0     & 0.00  & 0.16  & 0     & 0.16  & 0.16  & 0.08  & ...   & 0     & 0.000 & 0.000 & 0.000 & 0.213 & 0.113 & 0     & 3.150 & 76    & 441  \\\\\n",
       "\t311 & 0.00  & 0.00  & 0.00  & 0     & 0.00  & 0.00  & 0     & 0.00  & 0.00  & 0.00  & ...   & 0     & 0.000 & 0.000 & 0.000 & 0.000 & 0.000 & 0     & 1.000 &  1    &   7  \\\\\n",
       "\t304 & 0.00  & 0.00  & 0.00  & 0     & 0.00  & 0.00  & 0     & 0.00  & 0.00  & 0.00  & ...   & 0     & 0.000 & 0.507 & 0.000 & 0.000 & 0.000 & 0     & 1.133 &  3    &  17  \\\\\n",
       "\t310 & 0.46  & 0.00  & 0.00  & 0     & 0.00  & 0.00  & 0     & 0.00  & 0.00  & 0.00  & ...   & 0     & 0.000 & 0.125 & 0.000 & 0.000 & 0.000 & 0     & 1.510 & 10    &  74  \\\\\n",
       "\t428 & 0.00  & 0.00  & 0.00  & 0     & 0.00  & 0.00  & 0     & 0.00  & 0.00  & 0.00  & ...   & 0     & 0.102 & 0.308 & 0.000 & 0.000 & 0.000 & 0     & 1.400 & 10    &  77  \\\\\n",
       "\t317 & 0.00  & 0.00  & 1.33  & 0     & 1.33  & 0.00  & 0     & 0.00  & 0.00  & 0.00  & ...   & 0     & 0.865 & 0.000 & 0.216 & 0.000 & 0.000 & 0     & 1.647 & 12    &  28  \\\\\n",
       "\\end{tabular}\n"
      ],
      "text/markdown": [
       "\n",
       "| <!--/--> | make | address | all | num3d | our | over | remove | internet | order | mail | ... | conference | charSemicolon | charRoundbracket | charSquarebracket | charExclamation | charDollar | charHash | capitalAve | capitalLong | capitalTotal | \n",
       "|---|---|---|---|---|---|\n",
       "| 57 | 0.33  | 0.16  | 0.33  | 0     | 0.00  | 0.16  | 0     | 0.16  | 0.16  | 0.08  | ...   | 0     | 0.000 | 0.000 | 0.000 | 0.213 | 0.113 | 0     | 3.150 | 76    | 441   | \n",
       "| 311 | 0.00  | 0.00  | 0.00  | 0     | 0.00  | 0.00  | 0     | 0.00  | 0.00  | 0.00  | ...   | 0     | 0.000 | 0.000 | 0.000 | 0.000 | 0.000 | 0     | 1.000 |  1    |   7   | \n",
       "| 304 | 0.00  | 0.00  | 0.00  | 0     | 0.00  | 0.00  | 0     | 0.00  | 0.00  | 0.00  | ...   | 0     | 0.000 | 0.507 | 0.000 | 0.000 | 0.000 | 0     | 1.133 |  3    |  17   | \n",
       "| 310 | 0.46  | 0.00  | 0.00  | 0     | 0.00  | 0.00  | 0     | 0.00  | 0.00  | 0.00  | ...   | 0     | 0.000 | 0.125 | 0.000 | 0.000 | 0.000 | 0     | 1.510 | 10    |  74   | \n",
       "| 428 | 0.00  | 0.00  | 0.00  | 0     | 0.00  | 0.00  | 0     | 0.00  | 0.00  | 0.00  | ...   | 0     | 0.102 | 0.308 | 0.000 | 0.000 | 0.000 | 0     | 1.400 | 10    |  77   | \n",
       "| 317 | 0.00  | 0.00  | 1.33  | 0     | 1.33  | 0.00  | 0     | 0.00  | 0.00  | 0.00  | ...   | 0     | 0.865 | 0.000 | 0.216 | 0.000 | 0.000 | 0     | 1.647 | 12    |  28   | \n",
       "\n",
       "\n"
      ],
      "text/plain": [
       "    make address all  num3d our  over remove internet order mail ... conference\n",
       "57  0.33 0.16    0.33 0     0.00 0.16 0      0.16     0.16  0.08 ... 0         \n",
       "311 0.00 0.00    0.00 0     0.00 0.00 0      0.00     0.00  0.00 ... 0         \n",
       "304 0.00 0.00    0.00 0     0.00 0.00 0      0.00     0.00  0.00 ... 0         \n",
       "310 0.46 0.00    0.00 0     0.00 0.00 0      0.00     0.00  0.00 ... 0         \n",
       "428 0.00 0.00    0.00 0     0.00 0.00 0      0.00     0.00  0.00 ... 0         \n",
       "317 0.00 0.00    1.33 0     1.33 0.00 0      0.00     0.00  0.00 ... 0         \n",
       "    charSemicolon charRoundbracket charSquarebracket charExclamation charDollar\n",
       "57  0.000         0.000            0.000             0.213           0.113     \n",
       "311 0.000         0.000            0.000             0.000           0.000     \n",
       "304 0.000         0.507            0.000             0.000           0.000     \n",
       "310 0.000         0.125            0.000             0.000           0.000     \n",
       "428 0.102         0.308            0.000             0.000           0.000     \n",
       "317 0.865         0.000            0.216             0.000           0.000     \n",
       "    charHash capitalAve capitalLong capitalTotal\n",
       "57  0        3.150      76          441         \n",
       "311 0        1.000       1            7         \n",
       "304 0        1.133       3           17         \n",
       "310 0        1.510      10           74         \n",
       "428 0        1.400      10           77         \n",
       "317 0        1.647      12           28         "
      ]
     },
     "metadata": {},
     "output_type": "display_data"
    },
    {
     "name": "stdout",
     "output_type": "stream",
     "text": [
      "\n",
      "Dataset test :  167 57"
     ]
    },
    {
     "data": {
      "text/html": [
       "<table>\n",
       "<thead><tr><th></th><th scope=col>make</th><th scope=col>address</th><th scope=col>all</th><th scope=col>num3d</th><th scope=col>our</th><th scope=col>over</th><th scope=col>remove</th><th scope=col>internet</th><th scope=col>order</th><th scope=col>mail</th><th scope=col>...</th><th scope=col>conference</th><th scope=col>charSemicolon</th><th scope=col>charRoundbracket</th><th scope=col>charSquarebracket</th><th scope=col>charExclamation</th><th scope=col>charDollar</th><th scope=col>charHash</th><th scope=col>capitalAve</th><th scope=col>capitalLong</th><th scope=col>capitalTotal</th></tr></thead>\n",
       "<tbody>\n",
       "\t<tr><th scope=row>2</th><td>0.00  </td><td>0.00  </td><td>0.00  </td><td>0     </td><td>0.00  </td><td>0     </td><td>0     </td><td>1.12  </td><td>0.00  </td><td>0.00  </td><td>...   </td><td>0     </td><td>0     </td><td>0.204 </td><td>0     </td><td>0.408 </td><td>0.408 </td><td>0.000 </td><td> 4.100</td><td>  25  </td><td>  82  </td></tr>\n",
       "\t<tr><th scope=row>3</th><td>0.00  </td><td>0.00  </td><td>0.48  </td><td>0     </td><td>0.48  </td><td>0     </td><td>0     </td><td>0.48  </td><td>0.00  </td><td>0.00  </td><td>...   </td><td>0     </td><td>0     </td><td>0.084 </td><td>0     </td><td>0.084 </td><td>0.761 </td><td>0.000 </td><td> 5.322</td><td>  46  </td><td> 165  </td></tr>\n",
       "\t<tr><th scope=row>10</th><td>0.00  </td><td>0.00  </td><td>0.00  </td><td>0     </td><td>0.00  </td><td>0     </td><td>0     </td><td>4.62  </td><td>0.00  </td><td>0.00  </td><td>...   </td><td>0     </td><td>0     </td><td>0.000 </td><td>0     </td><td>0.919 </td><td>0.367 </td><td>0.000 </td><td> 2.840</td><td>  16  </td><td>  71  </td></tr>\n",
       "\t<tr><th scope=row>13</th><td>0.00  </td><td>0.00  </td><td>0.53  </td><td>0     </td><td>0.53  </td><td>0     </td><td>0     </td><td>0.53  </td><td>0.00  </td><td>0.00  </td><td>...   </td><td>0     </td><td>0     </td><td>0.186 </td><td>0     </td><td>0.093 </td><td>0.466 </td><td>0.000 </td><td> 5.038</td><td>  60  </td><td> 131  </td></tr>\n",
       "\t<tr><th scope=row>14</th><td>0.35  </td><td>0.08  </td><td>0.35  </td><td>0     </td><td>0.35  </td><td>0     </td><td>0     </td><td>0.52  </td><td>0.61  </td><td>1.76  </td><td>...   </td><td>0     </td><td>0     </td><td>0.081 </td><td>0     </td><td>0.556 </td><td>0.069 </td><td>0.011 </td><td>19.234</td><td>1170  </td><td>3116  </td></tr>\n",
       "\t<tr><th scope=row>18</th><td>0.00  </td><td>0.00  </td><td>0.00  </td><td>0     </td><td>0.00  </td><td>0     </td><td>0     </td><td>0.00  </td><td>0.00  </td><td>0.00  </td><td>...   </td><td>0     </td><td>0     </td><td>0.417 </td><td>0     </td><td>0.208 </td><td>0.626 </td><td>0.000 </td><td> 4.066</td><td>  17  </td><td>  61  </td></tr>\n",
       "</tbody>\n",
       "</table>\n"
      ],
      "text/latex": [
       "\\begin{tabular}{r|lllllllllllllllllllllllllllllllllllllllllllllllllllllllll}\n",
       "  & make & address & all & num3d & our & over & remove & internet & order & mail & ... & conference & charSemicolon & charRoundbracket & charSquarebracket & charExclamation & charDollar & charHash & capitalAve & capitalLong & capitalTotal\\\\\n",
       "\\hline\n",
       "\t2 & 0.00   & 0.00   & 0.00   & 0      & 0.00   & 0      & 0      & 1.12   & 0.00   & 0.00   & ...    & 0      & 0      & 0.204  & 0      & 0.408  & 0.408  & 0.000  &  4.100 &   25   &   82  \\\\\n",
       "\t3 & 0.00   & 0.00   & 0.48   & 0      & 0.48   & 0      & 0      & 0.48   & 0.00   & 0.00   & ...    & 0      & 0      & 0.084  & 0      & 0.084  & 0.761  & 0.000  &  5.322 &   46   &  165  \\\\\n",
       "\t10 & 0.00   & 0.00   & 0.00   & 0      & 0.00   & 0      & 0      & 4.62   & 0.00   & 0.00   & ...    & 0      & 0      & 0.000  & 0      & 0.919  & 0.367  & 0.000  &  2.840 &   16   &   71  \\\\\n",
       "\t13 & 0.00   & 0.00   & 0.53   & 0      & 0.53   & 0      & 0      & 0.53   & 0.00   & 0.00   & ...    & 0      & 0      & 0.186  & 0      & 0.093  & 0.466  & 0.000  &  5.038 &   60   &  131  \\\\\n",
       "\t14 & 0.35   & 0.08   & 0.35   & 0      & 0.35   & 0      & 0      & 0.52   & 0.61   & 1.76   & ...    & 0      & 0      & 0.081  & 0      & 0.556  & 0.069  & 0.011  & 19.234 & 1170   & 3116  \\\\\n",
       "\t18 & 0.00   & 0.00   & 0.00   & 0      & 0.00   & 0      & 0      & 0.00   & 0.00   & 0.00   & ...    & 0      & 0      & 0.417  & 0      & 0.208  & 0.626  & 0.000  &  4.066 &   17   &   61  \\\\\n",
       "\\end{tabular}\n"
      ],
      "text/markdown": [
       "\n",
       "| <!--/--> | make | address | all | num3d | our | over | remove | internet | order | mail | ... | conference | charSemicolon | charRoundbracket | charSquarebracket | charExclamation | charDollar | charHash | capitalAve | capitalLong | capitalTotal | \n",
       "|---|---|---|---|---|---|\n",
       "| 2 | 0.00   | 0.00   | 0.00   | 0      | 0.00   | 0      | 0      | 1.12   | 0.00   | 0.00   | ...    | 0      | 0      | 0.204  | 0      | 0.408  | 0.408  | 0.000  |  4.100 |   25   |   82   | \n",
       "| 3 | 0.00   | 0.00   | 0.48   | 0      | 0.48   | 0      | 0      | 0.48   | 0.00   | 0.00   | ...    | 0      | 0      | 0.084  | 0      | 0.084  | 0.761  | 0.000  |  5.322 |   46   |  165   | \n",
       "| 10 | 0.00   | 0.00   | 0.00   | 0      | 0.00   | 0      | 0      | 4.62   | 0.00   | 0.00   | ...    | 0      | 0      | 0.000  | 0      | 0.919  | 0.367  | 0.000  |  2.840 |   16   |   71   | \n",
       "| 13 | 0.00   | 0.00   | 0.53   | 0      | 0.53   | 0      | 0      | 0.53   | 0.00   | 0.00   | ...    | 0      | 0      | 0.186  | 0      | 0.093  | 0.466  | 0.000  |  5.038 |   60   |  131   | \n",
       "| 14 | 0.35   | 0.08   | 0.35   | 0      | 0.35   | 0      | 0      | 0.52   | 0.61   | 1.76   | ...    | 0      | 0      | 0.081  | 0      | 0.556  | 0.069  | 0.011  | 19.234 | 1170   | 3116   | \n",
       "| 18 | 0.00   | 0.00   | 0.00   | 0      | 0.00   | 0      | 0      | 0.00   | 0.00   | 0.00   | ...    | 0      | 0      | 0.417  | 0      | 0.208  | 0.626  | 0.000  |  4.066 |   17   |   61   | \n",
       "\n",
       "\n"
      ],
      "text/plain": [
       "   make address all  num3d our  over remove internet order mail ... conference\n",
       "2  0.00 0.00    0.00 0     0.00 0    0      1.12     0.00  0.00 ... 0         \n",
       "3  0.00 0.00    0.48 0     0.48 0    0      0.48     0.00  0.00 ... 0         \n",
       "10 0.00 0.00    0.00 0     0.00 0    0      4.62     0.00  0.00 ... 0         \n",
       "13 0.00 0.00    0.53 0     0.53 0    0      0.53     0.00  0.00 ... 0         \n",
       "14 0.35 0.08    0.35 0     0.35 0    0      0.52     0.61  1.76 ... 0         \n",
       "18 0.00 0.00    0.00 0     0.00 0    0      0.00     0.00  0.00 ... 0         \n",
       "   charSemicolon charRoundbracket charSquarebracket charExclamation charDollar\n",
       "2  0             0.204            0                 0.408           0.408     \n",
       "3  0             0.084            0                 0.084           0.761     \n",
       "10 0             0.000            0                 0.919           0.367     \n",
       "13 0             0.186            0                 0.093           0.466     \n",
       "14 0             0.081            0                 0.556           0.069     \n",
       "18 0             0.417            0                 0.208           0.626     \n",
       "   charHash capitalAve capitalLong capitalTotal\n",
       "2  0.000     4.100       25          82        \n",
       "3  0.000     5.322       46         165        \n",
       "10 0.000     2.840       16          71        \n",
       "13 0.000     5.038       60         131        \n",
       "14 0.011    19.234     1170        3116        \n",
       "18 0.000     4.066       17          61        "
      ]
     },
     "metadata": {},
     "output_type": "display_data"
    }
   ],
   "source": [
    "# Récupération des variables explicatives du dataset apprentissage et du dataset test\n",
    "XTrain = as.data.frame(xTrain[,-total_columns])\n",
    "XTest = as.data.frame(xTest[,-(total_columns)])\n",
    "# Vérification\n",
    "cat(\"Dataset d'apprentissage : \", dim(XTrain))\n",
    "head(XTrain)\n",
    "\n",
    "cat(\"\\nDataset test : \", dim(XTest))\n",
    "head(XTest)"
   ]
  },
  {
   "cell_type": "code",
   "execution_count": 35,
   "metadata": {},
   "outputs": [],
   "source": [
    "# Isolation de la variable d'intérêt\n",
    "yTrain = xTrain[,total_columns]\n",
    "yTrain_values = list(yTrain)\n",
    "\n",
    "yTest = xTest[,total_columns]\n",
    "yTest_values = list(yTest)"
   ]
  },
  {
   "cell_type": "code",
   "execution_count": 36,
   "metadata": {
    "scrolled": false
   },
   "outputs": [
    {
     "data": {
      "text/plain": [
       "yTrain\n",
       "nonspam    spam \n",
       "    167     166 "
      ]
     },
     "metadata": {},
     "output_type": "display_data"
    },
    {
     "data": {
      "image/png": "[encoded data removed]",
      "text/plain": [
       "plot without title"
      ]
     },
     "metadata": {},
     "output_type": "display_data"
    },
    {
     "data": {
      "text/plain": [
       "yTest\n",
       "nonspam    spam \n",
       "     83      84 "
      ]
     },
     "metadata": {},
     "output_type": "display_data"
    },
    {
     "data": {
      "image/png": "[encoded data removed]",
      "text/plain": [
       "plot without title"
      ]
     },
     "metadata": {},
     "output_type": "display_data"
    }
   ],
   "source": [
    "# Vérification que les classes soient bien réparties dans les 2 datasets\n",
    "\n",
    "# Dataset apprentissage\n",
    "    # /!\\ Représentation graphique ou juste afficher nb_occ, je sais pas\n",
    "tbl_app <- with(data, table(yTrain))\n",
    "barplot(tbl_app, beside = TRUE, col = c(\"#F5A9A9\", \"#A9D0F5\"), xlab = \"yTrain\", ylab = \"count\")\n",
    "table(yTrain)\n",
    "\n",
    "# Dataset test\n",
    "tbl_test <- with(data, table(yTest))\n",
    "barplot(tbl_test, beside = TRUE, col = c(\"#F5A9A9\", \"#A9D0F5\"), xlab = \"yTest\", ylab = \"count\")\n",
    "table(yTest)"
   ]
  },
  {
   "cell_type": "code",
   "execution_count": 37,
   "metadata": {},
   "outputs": [
    {
     "data": {
      "text/html": [
       "<dl class=dl-horizontal>\n",
       "\t<dt>0</dt>\n",
       "\t\t<dd>167</dd>\n",
       "\t<dt>1</dt>\n",
       "\t\t<dd>166</dd>\n",
       "</dl>\n"
      ],
      "text/latex": [
       "\\begin{description*}\n",
       "\\item[0] 167\n",
       "\\item[1] 166\n",
       "\\end{description*}\n"
      ],
      "text/markdown": [
       "0\n",
       ":   1671\n",
       ":   166\n",
       "\n"
      ],
      "text/plain": [
       "  0   1 \n",
       "167 166 "
      ]
     },
     "metadata": {},
     "output_type": "display_data"
    },
    {
     "data": {
      "text/html": [
       "<dl class=dl-horizontal>\n",
       "\t<dt>0</dt>\n",
       "\t\t<dd>83</dd>\n",
       "\t<dt>1</dt>\n",
       "\t\t<dd>84</dd>\n",
       "</dl>\n"
      ],
      "text/latex": [
       "\\begin{description*}\n",
       "\\item[0] 83\n",
       "\\item[1] 84\n",
       "\\end{description*}\n"
      ],
      "text/markdown": [
       "0\n",
       ":   831\n",
       ":   84\n",
       "\n"
      ],
      "text/plain": [
       " 0  1 \n",
       "83 84 "
      ]
     },
     "metadata": {},
     "output_type": "display_data"
    }
   ],
   "source": [
    "yTrain = as.factor(yTrain)\n",
    "yTest = as.factor(yTest)\n",
    "levels(yTrain)[1]<-0\n",
    "levels(yTrain)[2]<-1\n",
    "levels(yTest)[1]<-0\n",
    "levels(yTest)[2]<-1\n",
    "summary(yTrain)\n",
    "summary(yTest)\n",
    "XTrain$y = yTrain\n",
    "XTest$y = yTest"
   ]
  },
  {
   "cell_type": "markdown",
   "metadata": {},
   "source": [
    "## Regression Logistique"
   ]
  },
  {
   "cell_type": "code",
   "execution_count": 38,
   "metadata": {},
   "outputs": [
    {
     "name": "stderr",
     "output_type": "stream",
     "text": [
      "Warning message:\n",
      "\"glm.fit: algorithm did not converge\"Warning message:\n",
      "\"glm.fit: fitted probabilities numerically 0 or 1 occurred\"Warning message in predict.lm(object, newdata, se.fit, scale = 1, type = ifelse(type == :\n",
      "\"prediction from a rank-deficient fit may be misleading\""
     ]
    },
    {
     "data": {
      "text/html": [
       "1"
      ],
      "text/latex": [
       "1"
      ],
      "text/markdown": [
       "1"
      ],
      "text/plain": [
       "[1] 1"
      ]
     },
     "metadata": {},
     "output_type": "display_data"
    },
    {
     "name": "stdout",
     "output_type": "stream",
     "text": [
      "Erreur de classification"
     ]
    },
    {
     "data": {
      "text/html": [
       "0.0658682634730539"
      ],
      "text/latex": [
       "0.0658682634730539"
      ],
      "text/markdown": [
       "0.0658682634730539"
      ],
      "text/plain": [
       "[1] 0.06586826"
      ]
     },
     "metadata": {},
     "output_type": "display_data"
    },
    {
     "name": "stdout",
     "output_type": "stream",
     "text": [
      "[1] \"Matrice de confusion :\"\n"
     ]
    },
    {
     "data": {
      "text/plain": [
       "    pred\n",
       "true  0  1\n",
       "   0 76  7\n",
       "   1  4 80"
      ]
     },
     "metadata": {},
     "output_type": "display_data"
    }
   ],
   "source": [
    "fit.glm = glm(y ~ ., data = XTrain, family = \"binomial\")\n",
    "\n",
    "# Performance du modele\n",
    "pred.glm = predict(fit.glm, newdata = XTest) # prediction de classification\n",
    "(score.glm = mean(pred.glm != yTest)) # Erreur de prédiction\n",
    "probas = pred.glm\n",
    "pred.glm = rep(0, length(XTest$y))\n",
    "pred.glm[probas > 0.5] = 1\n",
    "cat(\"Erreur de classification\")\n",
    "(classification_error = mean(pred.glm!=XTest$y))\n",
    "\n",
    "# Matrice de confusion\n",
    "print(\"Matrice de confusion :\")\n",
    "table(true = yTest, pred = pred.glm)"
   ]
  },
  {
   "cell_type": "markdown",
   "metadata": {},
   "source": [
    "## Random Forest"
   ]
  },
  {
   "cell_type": "code",
   "execution_count": 39,
   "metadata": {},
   "outputs": [
    {
     "data": {
      "text/plain": [
       "\n",
       "Parameter tuning of 'randomForest':\n",
       "\n",
       "- sampling method: 10-fold cross validation \n",
       "\n",
       "- best parameters:\n",
       " ntree     mtry\n",
       "  2000 3.774917\n",
       "\n",
       "- best performance: 0.03609626 \n"
      ]
     },
     "metadata": {},
     "output_type": "display_data"
    }
   ],
   "source": [
    "tune.rf = tune(randomForest, y ~ ., data = XTrain, ranges = list(ntree = c(500, 2000, 10000), mtry = c(sqrt(total_columns-1), (total_columns-1)/2, sqrt(total_columns-1)/2)))\n",
    "tune.rf\n",
    "best.rf = tune.rf$best.model\n",
    "best.rf.params = tune.rf$best.parameters"
   ]
  },
  {
   "cell_type": "code",
   "execution_count": 40,
   "metadata": {},
   "outputs": [
    {
     "name": "stdout",
     "output_type": "stream",
     "text": [
      " Nombre de vrais positifs : "
     ]
    },
    {
     "data": {
      "text/html": [
       "157"
      ],
      "text/latex": [
       "157"
      ],
      "text/markdown": [
       "157"
      ],
      "text/plain": [
       "[1] 157"
      ]
     },
     "metadata": {},
     "output_type": "display_data"
    },
    {
     "name": "stdout",
     "output_type": "stream",
     "text": [
      "\n",
      " Nombre de faux positifs : "
     ]
    },
    {
     "data": {
      "text/html": [
       "5"
      ],
      "text/latex": [
       "5"
      ],
      "text/markdown": [
       "5"
      ],
      "text/plain": [
       "[1] 5"
      ]
     },
     "metadata": {},
     "output_type": "display_data"
    },
    {
     "name": "stdout",
     "output_type": "stream",
     "text": [
      "\n",
      " Nombre de vrais negatifs : "
     ]
    },
    {
     "data": {
      "text/html": [
       "162"
      ],
      "text/latex": [
       "162"
      ],
      "text/markdown": [
       "162"
      ],
      "text/plain": [
       "[1] 162"
      ]
     },
     "metadata": {},
     "output_type": "display_data"
    },
    {
     "name": "stdout",
     "output_type": "stream",
     "text": [
      "\n",
      " Nombre de faux negatifs : "
     ]
    },
    {
     "data": {
      "text/html": [
       "9"
      ],
      "text/latex": [
       "9"
      ],
      "text/markdown": [
       "9"
      ],
      "text/plain": [
       "[1] 9"
      ]
     },
     "metadata": {},
     "output_type": "display_data"
    },
    {
     "name": "stdout",
     "output_type": "stream",
     "text": [
      "\n",
      " Erreur OOB : "
     ]
    },
    {
     "data": {
      "text/html": [
       "0.042042042042042"
      ],
      "text/latex": [
       "0.042042042042042"
      ],
      "text/markdown": [
       "0.042042042042042"
      ],
      "text/plain": [
       "[1] 0.04204204"
      ]
     },
     "metadata": {},
     "output_type": "display_data"
    }
   ],
   "source": [
    "cat(\"\\ Nombre de vrais positifs : \")\n",
    "best.rf$confusion[2,2]\n",
    "\n",
    "cat(\"\\n Nombre de faux positifs : \")\n",
    "best.rf$confusion[1,2]\n",
    "\n",
    "cat(\"\\n Nombre de vrais negatifs : \")\n",
    "best.rf$confusion[1,1]\n",
    "\n",
    "cat(\"\\n Nombre de faux negatifs : \")\n",
    "best.rf$confusion[2,1]\n",
    "\n",
    "cat(\"\\n Erreur OOB : \")\n",
    "(best.rf$confusion[2,1]+best.rf$confusion[1,2])/\n",
    "(best.rf$confusion[1,1]+best.rf$confusion[2,2]+best.rf$confusion[2,1]+best.rf$confusion[1,2])"
   ]
  },
  {
   "cell_type": "markdown",
   "metadata": {},
   "source": [
    "### Classement des variables explicatives:"
   ]
  },
  {
   "cell_type": "code",
   "execution_count": 41,
   "metadata": {},
   "outputs": [
    {
     "data": {
      "image/png": "[encoded data removed]",
      "text/plain": [
       "Plot with title \"Classement sur les 57 covariables\n",
       " par importance\n",
       "\""
      ]
     },
     "metadata": {},
     "output_type": "display_data"
    }
   ],
   "source": [
    "par(mfrow = c(1,2))\n",
    "varImpPlot(best.rf, main = sprintf(\"Classement sur les %d covariables\\n par importance\\n\", total_columns-1), cex.main = 0.8)"
   ]
  },
  {
   "cell_type": "code",
   "execution_count": 42,
   "metadata": {},
   "outputs": [
    {
     "data": {
      "image/png": "[encoded data removed]",
      "text/plain": [
       "Plot with title \"Evolution de l'erreur OOB en fonction du nombre d'arbres\""
      ]
     },
     "metadata": {},
     "output_type": "display_data"
    }
   ],
   "source": [
    "plot(best.rf$err.rate[, 1],type = \"l\", main = \"Evolution de l'erreur OOB en fonction du nombre d'arbres\", \n",
    "     xlab = \"nombre d'arbres\", ylab = \"erreur OOB\", ylim = c(0.30, 0.50))"
   ]
  },
  {
   "cell_type": "markdown",
   "metadata": {},
   "source": [
    "## CART"
   ]
  },
  {
   "cell_type": "code",
   "execution_count": 43,
   "metadata": {},
   "outputs": [
    {
     "data": {
      "image/png": "[encoded data removed]",
      "text/plain": [
       "Plot with title \"Evolution de l'erreur test estimee selon minsplit\""
      ]
     },
     "metadata": {},
     "output_type": "display_data"
    }
   ],
   "source": [
    "m = c(10,20,30,40,50)\n",
    "error = rep(NA, length(m))\n",
    "minsplit_list = c(\"10\",\"20\",\"30\",\"40\",\"50\")\n",
    "for (j in 1:length(m)) \n",
    "{\n",
    "   cart = rpart(y~., data = XTrain,control=rpart.control(minsplit=m[j],cp=0,xval=10))\n",
    "   predict_cart = predict(cart, newdata = XTest,  type=\"class\")\n",
    "   error[j] = mean(XTest$y != predict_cart)\n",
    "}\n",
    "error_CART = cbind(minsplit_list, error)\n",
    "plot(error_CART, main = \"Evolution de l'erreur test estimee selon minsplit\", col = 2)"
   ]
  },
  {
   "cell_type": "code",
   "execution_count": 44,
   "metadata": {},
   "outputs": [
    {
     "data": {
      "text/html": [
       "<strong>minsplit_list:</strong> '10'"
      ],
      "text/latex": [
       "\\textbf{minsplit\\textbackslash{}\\_list:} '10'"
      ],
      "text/markdown": [
       "**minsplit_list:** '10'"
      ],
      "text/plain": [
       "minsplit_list \n",
       "         \"10\" "
      ]
     },
     "metadata": {},
     "output_type": "display_data"
    },
    {
     "data": {
      "text/html": [
       "10"
      ],
      "text/latex": [
       "10"
      ],
      "text/markdown": [
       "10"
      ],
      "text/plain": [
       "[1] 10"
      ]
     },
     "metadata": {},
     "output_type": "display_data"
    }
   ],
   "source": [
    "(best.minsplit = error_CART[which.min(error_CART[,\"error\"]),\"minsplit_list\"])\n",
    "(best.minsplit = as.numeric(str_extract(best.minsplit, regex(\"\\\\d{2}\"))))"
   ]
  },
  {
   "cell_type": "code",
   "execution_count": 45,
   "metadata": {},
   "outputs": [
    {
     "name": "stdout",
     "output_type": "stream",
     "text": [
      "n= 333 \n",
      "\n",
      "node), split, n, loss, yval, (yprob)\n",
      "      * denotes terminal node\n",
      "\n",
      " 1) root 333 166 0 (0.50150150 0.49849850)  \n",
      "   2) charExclamation< 0.0565 165  23 0 (0.86060606 0.13939394)  \n",
      "     4) remove< 0.05 159  17 0 (0.89308176 0.10691824)  \n",
      "       8) capitalAve< 14.25 155  13 0 (0.91612903 0.08387097)  \n",
      "        16) you< 6.07 152  10 0 (0.93421053 0.06578947)  \n",
      "          32) money< 0.12 149   8 0 (0.94630872 0.05369128) *\n",
      "          33) money>=0.12 3   1 1 (0.33333333 0.66666667) *\n",
      "        17) you>=6.07 3   0 1 (0.00000000 1.00000000) *\n",
      "       9) capitalAve>=14.25 4   0 1 (0.00000000 1.00000000) *\n",
      "     5) remove>=0.05 6   0 1 (0.00000000 1.00000000) *\n",
      "   3) charExclamation>=0.0565 168  25 1 (0.14880952 0.85119048)  \n",
      "     6) you< 0.16 21   7 0 (0.66666667 0.33333333)  \n",
      "      12) charDollar< 0.062 15   1 0 (0.93333333 0.06666667) *\n",
      "      13) charDollar>=0.062 6   0 1 (0.00000000 1.00000000) *\n",
      "     7) you>=0.16 147  11 1 (0.07482993 0.92517007)  \n",
      "      14) hp>=0.65 5   1 0 (0.80000000 0.20000000) *\n",
      "      15) hp< 0.65 142   7 1 (0.04929577 0.95070423)  \n",
      "        30) george>=0.1 3   1 0 (0.66666667 0.33333333) *\n",
      "        31) george< 0.1 139   5 1 (0.03597122 0.96402878)  \n",
      "          62) capitalTotal< 29.5 3   1 0 (0.66666667 0.33333333) *\n",
      "          63) capitalTotal>=29.5 136   3 1 (0.02205882 0.97794118) *\n",
      "\n",
      "Classification tree:\n",
      "rpart(formula = y ~ ., data = XTrain, control = rpart.control(minsplit = best.minsplit, \n",
      "    cp = 0, xval = 10))\n",
      "\n",
      "Variables actually used in tree construction:\n",
      "[1] capitalAve      capitalTotal    charDollar      charExclamation\n",
      "[5] george          hp              money           remove         \n",
      "[9] you            \n",
      "\n",
      "Root node error: 166/333 = 0.4985\n",
      "\n",
      "n= 333 \n",
      "\n",
      "         CP nsplit rel error  xerror     xstd\n",
      "1 0.7108434      0  1.000000 1.12651 0.054547\n",
      "2 0.0421687      1  0.289157 0.31325 0.039905\n",
      "3 0.0361446      2  0.246988 0.33133 0.040820\n",
      "4 0.0240964      4  0.174699 0.30120 0.039269\n",
      "5 0.0180723      5  0.150602 0.27108 0.037581\n",
      "6 0.0060241      7  0.114458 0.27711 0.037931\n",
      "7 0.0000000     10  0.096386 0.30120 0.039269\n"
     ]
    },
    {
     "data": {
      "image/png": "[encoded data removed]",
      "text/plain": [
       "plot without title"
      ]
     },
     "metadata": {},
     "output_type": "display_data"
    },
    {
     "data": {
      "image/png": "[encoded data removed]",
      "text/plain": [
       "plot without title"
      ]
     },
     "metadata": {},
     "output_type": "display_data"
    }
   ],
   "source": [
    "t1 = rpart(y~., data = XTrain, control=rpart.control(minsplit=best.minsplit,cp=0,xval=10))\n",
    "print(t1)\n",
    "plot(t1)\n",
    "text(t1,cex=0.7)\n",
    "printcp(t1)\n",
    "plotcp(t1)"
   ]
  },
  {
   "cell_type": "code",
   "execution_count": 46,
   "metadata": {},
   "outputs": [
    {
     "name": "stdout",
     "output_type": "stream",
     "text": [
      "La valeur de cp qui minimise la xerror est : "
     ]
    },
    {
     "data": {
      "text/html": [
       "0.0180722891566265"
      ],
      "text/latex": [
       "0.0180722891566265"
      ],
      "text/markdown": [
       "0.0180722891566265"
      ],
      "text/plain": [
       "[1] 0.01807229"
      ]
     },
     "metadata": {},
     "output_type": "display_data"
    }
   ],
   "source": [
    "cat(\"La valeur de cp qui minimise la xerror est : \")\n",
    "(best.cp = t1$cptable[which.min(t1$cptable[,\"xerror\"]),\"CP\"])"
   ]
  },
  {
   "cell_type": "code",
   "execution_count": 47,
   "metadata": {},
   "outputs": [
    {
     "data": {
      "image/png": "[encoded data removed]",
      "text/plain": [
       "Plot with title \"Arbre maximal\""
      ]
     },
     "metadata": {},
     "output_type": "display_data"
    },
    {
     "data": {
      "image/png": "[encoded data removed]",
      "text/plain": [
       "Plot with title \"Arbre elague\""
      ]
     },
     "metadata": {},
     "output_type": "display_data"
    }
   ],
   "source": [
    "tprune = prune(t1, cp = best.cp)\n",
    "rpart.plot(t1, extra = 1, main = \"Arbre maximal\")\n",
    "rpart.plot(tprune, extra = 1, main = \"Arbre elague\")"
   ]
  },
  {
   "cell_type": "markdown",
   "metadata": {},
   "source": [
    "### Calcul de l'erreur test de l'arbre complet et l'arbre elague"
   ]
  },
  {
   "cell_type": "code",
   "execution_count": 48,
   "metadata": {},
   "outputs": [
    {
     "name": "stdout",
     "output_type": "stream",
     "text": [
      " Erreur test estimee pour model_CART : \n"
     ]
    },
    {
     "data": {
      "text/html": [
       "0.0718562874251497"
      ],
      "text/latex": [
       "0.0718562874251497"
      ],
      "text/markdown": [
       "0.0718562874251497"
      ],
      "text/plain": [
       "[1] 0.07185629"
      ]
     },
     "metadata": {},
     "output_type": "display_data"
    },
    {
     "name": "stdout",
     "output_type": "stream",
     "text": [
      " Erreur test estimee pour tprune_CART : \n"
     ]
    },
    {
     "data": {
      "text/html": [
       "0.119760479041916"
      ],
      "text/latex": [
       "0.119760479041916"
      ],
      "text/markdown": [
       "0.119760479041916"
      ],
      "text/plain": [
       "[1] 0.1197605"
      ]
     },
     "metadata": {},
     "output_type": "display_data"
    }
   ],
   "source": [
    "model_CART = rpart(y~., data = XTrain, control = rpart.control(minsplit = best.minsplit, cp = 0, xval = 10))\n",
    "pred.CART = predict(model_CART, newdata = XTest, type = \"class\")\n",
    "cat(\"\\ Erreur test estimee pour model_CART : \\n\")\n",
    "(score.cart1 = mean(XTest$y != pred.CART))\n",
    "\n",
    "tprune_CART = prune(model_CART, cp = best.cp)\n",
    "pred.pruned.CART = predict(tprune_CART, newdata = XTest, type = \"class\")\n",
    "cat(\"\\ Erreur test estimee pour tprune_CART : \\n\")\n",
    "(score.cart2 = mean(XTest$y != pred.pruned.CART))\n",
    "\n",
    "if (score.cart1 < score.cart2) {\n",
    "    best.cart = model_CART\n",
    "} else {\n",
    "    best.cart = tprune_CART\n",
    "}"
   ]
  },
  {
   "cell_type": "markdown",
   "metadata": {},
   "source": [
    "## SVM"
   ]
  },
  {
   "cell_type": "markdown",
   "metadata": {},
   "source": [
    "### Kernel lineaire"
   ]
  },
  {
   "cell_type": "code",
   "execution_count": 49,
   "metadata": {},
   "outputs": [
    {
     "name": "stderr",
     "output_type": "stream",
     "text": [
      "Warning message in svm.default(x, y, scale = scale, ..., na.action = na.action):\n",
      "\"Variable(s) 'num3d' constant. Cannot scale data.\"Warning message in svm.default(x, y, scale = scale, ..., na.action = na.action):\n",
      "\"Variable(s) 'num3d' constant. Cannot scale data.\"Warning message in svm.default(x, y, scale = scale, ..., na.action = na.action):\n",
      "\"Variable(s) 'num3d' constant. Cannot scale data.\"Warning message in svm.default(x, y, scale = scale, ..., na.action = na.action):\n",
      "\"Variable(s) 'num3d' constant. Cannot scale data.\"Warning message in svm.default(x, y, scale = scale, ..., na.action = na.action):\n",
      "\"Variable(s) 'num3d' constant. Cannot scale data.\"Warning message in svm.default(x, y, scale = scale, ..., na.action = na.action):\n",
      "\"Variable(s) 'num3d' constant. Cannot scale data.\"Warning message in svm.default(x, y, scale = scale, ..., na.action = na.action):\n",
      "\"Variable(s) 'num3d' constant. Cannot scale data.\"Warning message in svm.default(x, y, scale = scale, ..., na.action = na.action):\n",
      "\"Variable(s) 'num3d' constant. Cannot scale data.\"Warning message in svm.default(x, y, scale = scale, ..., na.action = na.action):\n",
      "\"Variable(s) 'num3d' constant. Cannot scale data.\"Warning message in svm.default(x, y, scale = scale, ..., na.action = na.action):\n",
      "\"Variable(s) 'num3d' constant. Cannot scale data.\"Warning message in svm.default(x, y, scale = scale, ..., na.action = na.action):\n",
      "\"Variable(s) 'num3d' constant. Cannot scale data.\"Warning message in svm.default(x, y, scale = scale, ..., na.action = na.action):\n",
      "\"Variable(s) 'num3d' constant. Cannot scale data.\"Warning message in svm.default(x, y, scale = scale, ..., na.action = na.action):\n",
      "\"Variable(s) 'num3d' constant. Cannot scale data.\"Warning message in svm.default(x, y, scale = scale, ..., na.action = na.action):\n",
      "\"Variable(s) 'num3d' constant. Cannot scale data.\"Warning message in svm.default(x, y, scale = scale, ..., na.action = na.action):\n",
      "\"Variable(s) 'num3d' constant. Cannot scale data.\"Warning message in svm.default(x, y, scale = scale, ..., na.action = na.action):\n",
      "\"Variable(s) 'num3d' constant. Cannot scale data.\"Warning message in svm.default(x, y, scale = scale, ..., na.action = na.action):\n",
      "\"Variable(s) 'num3d' constant. Cannot scale data.\"Warning message in svm.default(x, y, scale = scale, ..., na.action = na.action):\n",
      "\"Variable(s) 'num3d' constant. Cannot scale data.\"Warning message in svm.default(x, y, scale = scale, ..., na.action = na.action):\n",
      "\"Variable(s) 'num3d' constant. Cannot scale data.\"Warning message in svm.default(x, y, scale = scale, ..., na.action = na.action):\n",
      "\"Variable(s) 'num3d' constant. Cannot scale data.\"Warning message in svm.default(x, y, scale = scale, ..., na.action = na.action):\n",
      "\"Variable(s) 'num3d' constant. Cannot scale data.\"Warning message in svm.default(x, y, scale = scale, ..., na.action = na.action):\n",
      "\"Variable(s) 'num3d' constant. Cannot scale data.\"Warning message in svm.default(x, y, scale = scale, ..., na.action = na.action):\n",
      "\"Variable(s) 'num3d' constant. Cannot scale data.\"Warning message in svm.default(x, y, scale = scale, ..., na.action = na.action):\n",
      "\"Variable(s) 'num3d' constant. Cannot scale data.\"Warning message in svm.default(x, y, scale = scale, ..., na.action = na.action):\n",
      "\"Variable(s) 'num3d' constant. Cannot scale data.\"Warning message in svm.default(x, y, scale = scale, ..., na.action = na.action):\n",
      "\"Variable(s) 'num3d' constant. Cannot scale data.\"Warning message in svm.default(x, y, scale = scale, ..., na.action = na.action):\n",
      "\"Variable(s) 'num3d' constant. Cannot scale data.\"Warning message in svm.default(x, y, scale = scale, ..., na.action = na.action):\n",
      "\"Variable(s) 'num3d' constant. Cannot scale data.\"Warning message in svm.default(x, y, scale = scale, ..., na.action = na.action):\n",
      "\"Variable(s) 'num3d' constant. Cannot scale data.\"Warning message in svm.default(x, y, scale = scale, ..., na.action = na.action):\n",
      "\"Variable(s) 'num3d' constant. Cannot scale data.\"Warning message in svm.default(x, y, scale = scale, ..., na.action = na.action):\n",
      "\"Variable(s) 'num3d' constant. Cannot scale data.\"Warning message in svm.default(x, y, scale = scale, ..., na.action = na.action):\n",
      "\"Variable(s) 'num3d' constant. Cannot scale data.\"Warning message in svm.default(x, y, scale = scale, ..., na.action = na.action):\n",
      "\"Variable(s) 'num3d' constant. Cannot scale data.\"Warning message in svm.default(x, y, scale = scale, ..., na.action = na.action):\n",
      "\"Variable(s) 'num3d' constant. Cannot scale data.\"Warning message in svm.default(x, y, scale = scale, ..., na.action = na.action):\n",
      "\"Variable(s) 'num3d' constant. Cannot scale data.\"Warning message in svm.default(x, y, scale = scale, ..., na.action = na.action):\n",
      "\"Variable(s) 'num3d' constant. Cannot scale data.\"Warning message in svm.default(x, y, scale = scale, ..., na.action = na.action):\n",
      "\"Variable(s) 'num3d' constant. Cannot scale data.\"Warning message in svm.default(x, y, scale = scale, ..., na.action = na.action):\n",
      "\"Variable(s) 'num3d' constant. Cannot scale data.\"Warning message in svm.default(x, y, scale = scale, ..., na.action = na.action):\n",
      "\"Variable(s) 'num3d' constant. Cannot scale data.\"Warning message in svm.default(x, y, scale = scale, ..., na.action = na.action):\n",
      "\"Variable(s) 'num3d' constant. Cannot scale data.\"Warning message in svm.default(x, y, scale = scale, ..., na.action = na.action):\n",
      "\"Variable(s) 'num3d' constant. Cannot scale data.\"Warning message in svm.default(x, y, scale = scale, ..., na.action = na.action):\n",
      "\"Variable(s) 'num3d' constant. Cannot scale data.\"Warning message in svm.default(x, y, scale = scale, ..., na.action = na.action):\n",
      "\"Variable(s) 'num3d' constant. Cannot scale data.\"Warning message in svm.default(x, y, scale = scale, ..., na.action = na.action):\n",
      "\"Variable(s) 'num3d' constant. Cannot scale data.\"Warning message in svm.default(x, y, scale = scale, ..., na.action = na.action):\n",
      "\"Variable(s) 'num3d' constant. Cannot scale data.\"Warning message in svm.default(x, y, scale = scale, ..., na.action = na.action):\n",
      "\"Variable(s) 'num3d' constant. Cannot scale data.\"Warning message in svm.default(x, y, scale = scale, ..., na.action = na.action):\n",
      "\"Variable(s) 'num3d' constant. Cannot scale data.\"Warning message in svm.default(x, y, scale = scale, ..., na.action = na.action):\n",
      "\"Variable(s) 'num3d' constant. Cannot scale data.\"Warning message in svm.default(x, y, scale = scale, ..., na.action = na.action):\n",
      "\"Variable(s) 'num3d' constant. Cannot scale data.\"Warning message in svm.default(x, y, scale = scale, ..., na.action = na.action):\n",
      "\"Variable(s) 'num3d' constant. Cannot scale data.\"Warning message in svm.default(x, y, scale = scale, ..., na.action = na.action):\n",
      "\"Variable(s) 'num3d' constant. Cannot scale data.\""
     ]
    },
    {
     "data": {
      "text/plain": [
       "\n",
       "Parameter tuning of 'svm':\n",
       "\n",
       "- sampling method: 10-fold cross validation \n",
       "\n",
       "- best parameters:\n",
       " cost\n",
       "    1\n",
       "\n",
       "- best performance: 0.092959 \n"
      ]
     },
     "metadata": {},
     "output_type": "display_data"
    }
   ],
   "source": [
    "tune.svm.linear = tune(svm, y~., data = XTrain, kernel = \"linear\", ranges = list(cost = c(0.001, 0.01, 0.1, 1, 10)))\n",
    "tune.svm.linear\n",
    "best.svm.linear = tune.svm.linear$best.model\n",
    "best.svm.linear.perf = tune.svm.linear$best.performance"
   ]
  },
  {
   "cell_type": "markdown",
   "metadata": {},
   "source": [
    "### Kernel radial"
   ]
  },
  {
   "cell_type": "code",
   "execution_count": 50,
   "metadata": {},
   "outputs": [
    {
     "name": "stderr",
     "output_type": "stream",
     "text": [
      "Warning message in svm.default(x, y, scale = scale, ..., na.action = na.action):\n",
      "\"Variable(s) 'num3d' constant. Cannot scale data.\"Warning message in svm.default(x, y, scale = scale, ..., na.action = na.action):\n",
      "\"Variable(s) 'num3d' constant. Cannot scale data.\"Warning message in svm.default(x, y, scale = scale, ..., na.action = na.action):\n",
      "\"Variable(s) 'num3d' constant. Cannot scale data.\"Warning message in svm.default(x, y, scale = scale, ..., na.action = na.action):\n",
      "\"Variable(s) 'num3d' constant. Cannot scale data.\"Warning message in svm.default(x, y, scale = scale, ..., na.action = na.action):\n",
      "\"Variable(s) 'num3d' constant. Cannot scale data.\"Warning message in svm.default(x, y, scale = scale, ..., na.action = na.action):\n",
      "\"Variable(s) 'num3d' constant. Cannot scale data.\"Warning message in svm.default(x, y, scale = scale, ..., na.action = na.action):\n",
      "\"Variable(s) 'num3d' constant. Cannot scale data.\"Warning message in svm.default(x, y, scale = scale, ..., na.action = na.action):\n",
      "\"Variable(s) 'num3d' constant. Cannot scale data.\"Warning message in svm.default(x, y, scale = scale, ..., na.action = na.action):\n",
      "\"Variable(s) 'num3d' constant. Cannot scale data.\"Warning message in svm.default(x, y, scale = scale, ..., na.action = na.action):\n",
      "\"Variable(s) 'num3d' constant. Cannot scale data.\"Warning message in svm.default(x, y, scale = scale, ..., na.action = na.action):\n",
      "\"Variable(s) 'num3d' constant. Cannot scale data.\"Warning message in svm.default(x, y, scale = scale, ..., na.action = na.action):\n",
      "\"Variable(s) 'num3d' constant. Cannot scale data.\"Warning message in svm.default(x, y, scale = scale, ..., na.action = na.action):\n",
      "\"Variable(s) 'num3d' constant. Cannot scale data.\"Warning message in svm.default(x, y, scale = scale, ..., na.action = na.action):\n",
      "\"Variable(s) 'num3d' constant. Cannot scale data.\"Warning message in svm.default(x, y, scale = scale, ..., na.action = na.action):\n",
      "\"Variable(s) 'num3d' constant. Cannot scale data.\"Warning message in svm.default(x, y, scale = scale, ..., na.action = na.action):\n",
      "\"Variable(s) 'num3d' constant. Cannot scale data.\"Warning message in svm.default(x, y, scale = scale, ..., na.action = na.action):\n",
      "\"Variable(s) 'num3d' constant. Cannot scale data.\"Warning message in svm.default(x, y, scale = scale, ..., na.action = na.action):\n",
      "\"Variable(s) 'num3d' constant. Cannot scale data.\"Warning message in svm.default(x, y, scale = scale, ..., na.action = na.action):\n",
      "\"Variable(s) 'num3d' constant. Cannot scale data.\"Warning message in svm.default(x, y, scale = scale, ..., na.action = na.action):\n",
      "\"Variable(s) 'num3d' constant. Cannot scale data.\"Warning message in svm.default(x, y, scale = scale, ..., na.action = na.action):\n",
      "\"Variable(s) 'num3d' constant. Cannot scale data.\"Warning message in svm.default(x, y, scale = scale, ..., na.action = na.action):\n",
      "\"Variable(s) 'num3d' constant. Cannot scale data.\"Warning message in svm.default(x, y, scale = scale, ..., na.action = na.action):\n",
      "\"Variable(s) 'num3d' constant. Cannot scale data.\"Warning message in svm.default(x, y, scale = scale, ..., na.action = na.action):\n",
      "\"Variable(s) 'num3d' constant. Cannot scale data.\"Warning message in svm.default(x, y, scale = scale, ..., na.action = na.action):\n",
      "\"Variable(s) 'num3d' constant. Cannot scale data.\"Warning message in svm.default(x, y, scale = scale, ..., na.action = na.action):\n",
      "\"Variable(s) 'num3d' constant. Cannot scale data.\"Warning message in svm.default(x, y, scale = scale, ..., na.action = na.action):\n",
      "\"Variable(s) 'num3d' constant. Cannot scale data.\"Warning message in svm.default(x, y, scale = scale, ..., na.action = na.action):\n",
      "\"Variable(s) 'num3d' constant. Cannot scale data.\"Warning message in svm.default(x, y, scale = scale, ..., na.action = na.action):\n",
      "\"Variable(s) 'num3d' constant. Cannot scale data.\"Warning message in svm.default(x, y, scale = scale, ..., na.action = na.action):\n",
      "\"Variable(s) 'num3d' constant. Cannot scale data.\"Warning message in svm.default(x, y, scale = scale, ..., na.action = na.action):\n",
      "\"Variable(s) 'num3d' constant. Cannot scale data.\"Warning message in svm.default(x, y, scale = scale, ..., na.action = na.action):\n",
      "\"Variable(s) 'num3d' constant. Cannot scale data.\"Warning message in svm.default(x, y, scale = scale, ..., na.action = na.action):\n",
      "\"Variable(s) 'num3d' constant. Cannot scale data.\"Warning message in svm.default(x, y, scale = scale, ..., na.action = na.action):\n",
      "\"Variable(s) 'num3d' constant. Cannot scale data.\"Warning message in svm.default(x, y, scale = scale, ..., na.action = na.action):\n",
      "\"Variable(s) 'num3d' constant. Cannot scale data.\"Warning message in svm.default(x, y, scale = scale, ..., na.action = na.action):\n",
      "\"Variable(s) 'num3d' constant. Cannot scale data.\"Warning message in svm.default(x, y, scale = scale, ..., na.action = na.action):\n",
      "\"Variable(s) 'num3d' constant. Cannot scale data.\"Warning message in svm.default(x, y, scale = scale, ..., na.action = na.action):\n",
      "\"Variable(s) 'num3d' constant. Cannot scale data.\"Warning message in svm.default(x, y, scale = scale, ..., na.action = na.action):\n",
      "\"Variable(s) 'num3d' constant. Cannot scale data.\"Warning message in svm.default(x, y, scale = scale, ..., na.action = na.action):\n",
      "\"Variable(s) 'num3d' constant. Cannot scale data.\"Warning message in svm.default(x, y, scale = scale, ..., na.action = na.action):\n",
      "\"Variable(s) 'num3d' constant. Cannot scale data.\"Warning message in svm.default(x, y, scale = scale, ..., na.action = na.action):\n",
      "\"Variable(s) 'num3d' constant. Cannot scale data.\"Warning message in svm.default(x, y, scale = scale, ..., na.action = na.action):\n",
      "\"Variable(s) 'num3d' constant. Cannot scale data.\"Warning message in svm.default(x, y, scale = scale, ..., na.action = na.action):\n",
      "\"Variable(s) 'num3d' constant. Cannot scale data.\"Warning message in svm.default(x, y, scale = scale, ..., na.action = na.action):\n",
      "\"Variable(s) 'num3d' constant. Cannot scale data.\"Warning message in svm.default(x, y, scale = scale, ..., na.action = na.action):\n",
      "\"Variable(s) 'num3d' constant. Cannot scale data.\"Warning message in svm.default(x, y, scale = scale, ..., na.action = na.action):\n",
      "\"Variable(s) 'num3d' constant. Cannot scale data.\"Warning message in svm.default(x, y, scale = scale, ..., na.action = na.action):\n",
      "\"Variable(s) 'num3d' constant. Cannot scale data.\"Warning message in svm.default(x, y, scale = scale, ..., na.action = na.action):\n",
      "\"Variable(s) 'num3d' constant. Cannot scale data.\"Warning message in svm.default(x, y, scale = scale, ..., na.action = na.action):\n",
      "\"Variable(s) 'num3d' constant. Cannot scale data.\"Warning message in svm.default(x, y, scale = scale, ..., na.action = na.action):\n",
      "\"Variable(s) 'num3d' constant. Cannot scale data.\"Warning message in svm.default(x, y, scale = scale, ..., na.action = na.action):\n",
      "\"Variable(s) 'num3d' constant. Cannot scale data.\"Warning message in svm.default(x, y, scale = scale, ..., na.action = na.action):\n",
      "\"Variable(s) 'num3d' constant. Cannot scale data.\"Warning message in svm.default(x, y, scale = scale, ..., na.action = na.action):\n",
      "\"Variable(s) 'num3d' constant. Cannot scale data.\"Warning message in svm.default(x, y, scale = scale, ..., na.action = na.action):\n",
      "\"Variable(s) 'num3d' constant. Cannot scale data.\"Warning message in svm.default(x, y, scale = scale, ..., na.action = na.action):\n",
      "\"Variable(s) 'num3d' constant. Cannot scale data.\"Warning message in svm.default(x, y, scale = scale, ..., na.action = na.action):\n",
      "\"Variable(s) 'num3d' constant. Cannot scale data.\"Warning message in svm.default(x, y, scale = scale, ..., na.action = na.action):\n",
      "\"Variable(s) 'num3d' constant. Cannot scale data.\"Warning message in svm.default(x, y, scale = scale, ..., na.action = na.action):\n",
      "\"Variable(s) 'num3d' constant. Cannot scale data.\"Warning message in svm.default(x, y, scale = scale, ..., na.action = na.action):\n",
      "\"Variable(s) 'num3d' constant. Cannot scale data.\"Warning message in svm.default(x, y, scale = scale, ..., na.action = na.action):\n",
      "\"Variable(s) 'num3d' constant. Cannot scale data.\"Warning message in svm.default(x, y, scale = scale, ..., na.action = na.action):\n",
      "\"Variable(s) 'num3d' constant. Cannot scale data.\"Warning message in svm.default(x, y, scale = scale, ..., na.action = na.action):\n"
     ]
    },
    {
     "name": "stderr",
     "output_type": "stream",
     "text": [
      "\"Variable(s) 'num3d' constant. Cannot scale data.\"Warning message in svm.default(x, y, scale = scale, ..., na.action = na.action):\n",
      "\"Variable(s) 'num3d' constant. Cannot scale data.\"Warning message in svm.default(x, y, scale = scale, ..., na.action = na.action):\n",
      "\"Variable(s) 'num3d' constant. Cannot scale data.\"Warning message in svm.default(x, y, scale = scale, ..., na.action = na.action):\n",
      "\"Variable(s) 'num3d' constant. Cannot scale data.\"Warning message in svm.default(x, y, scale = scale, ..., na.action = na.action):\n",
      "\"Variable(s) 'num3d' constant. Cannot scale data.\"Warning message in svm.default(x, y, scale = scale, ..., na.action = na.action):\n",
      "\"Variable(s) 'num3d' constant. Cannot scale data.\"Warning message in svm.default(x, y, scale = scale, ..., na.action = na.action):\n",
      "\"Variable(s) 'num3d' constant. Cannot scale data.\"Warning message in svm.default(x, y, scale = scale, ..., na.action = na.action):\n",
      "\"Variable(s) 'num3d' constant. Cannot scale data.\"Warning message in svm.default(x, y, scale = scale, ..., na.action = na.action):\n",
      "\"Variable(s) 'num3d' constant. Cannot scale data.\"Warning message in svm.default(x, y, scale = scale, ..., na.action = na.action):\n",
      "\"Variable(s) 'num3d' constant. Cannot scale data.\"Warning message in svm.default(x, y, scale = scale, ..., na.action = na.action):\n",
      "\"Variable(s) 'num3d' constant. Cannot scale data.\"Warning message in svm.default(x, y, scale = scale, ..., na.action = na.action):\n",
      "\"Variable(s) 'num3d' constant. Cannot scale data.\"Warning message in svm.default(x, y, scale = scale, ..., na.action = na.action):\n",
      "\"Variable(s) 'num3d' constant. Cannot scale data.\"Warning message in svm.default(x, y, scale = scale, ..., na.action = na.action):\n",
      "\"Variable(s) 'num3d' constant. Cannot scale data.\"Warning message in svm.default(x, y, scale = scale, ..., na.action = na.action):\n",
      "\"Variable(s) 'num3d' constant. Cannot scale data.\"Warning message in svm.default(x, y, scale = scale, ..., na.action = na.action):\n",
      "\"Variable(s) 'num3d' constant. Cannot scale data.\"Warning message in svm.default(x, y, scale = scale, ..., na.action = na.action):\n",
      "\"Variable(s) 'num3d' constant. Cannot scale data.\"Warning message in svm.default(x, y, scale = scale, ..., na.action = na.action):\n",
      "\"Variable(s) 'num3d' constant. Cannot scale data.\"Warning message in svm.default(x, y, scale = scale, ..., na.action = na.action):\n",
      "\"Variable(s) 'num3d' constant. Cannot scale data.\"Warning message in svm.default(x, y, scale = scale, ..., na.action = na.action):\n",
      "\"Variable(s) 'num3d' constant. Cannot scale data.\"Warning message in svm.default(x, y, scale = scale, ..., na.action = na.action):\n",
      "\"Variable(s) 'num3d' constant. Cannot scale data.\"Warning message in svm.default(x, y, scale = scale, ..., na.action = na.action):\n",
      "\"Variable(s) 'num3d' constant. Cannot scale data.\"Warning message in svm.default(x, y, scale = scale, ..., na.action = na.action):\n",
      "\"Variable(s) 'num3d' constant. Cannot scale data.\"Warning message in svm.default(x, y, scale = scale, ..., na.action = na.action):\n",
      "\"Variable(s) 'num3d' constant. Cannot scale data.\"Warning message in svm.default(x, y, scale = scale, ..., na.action = na.action):\n",
      "\"Variable(s) 'num3d' constant. Cannot scale data.\"Warning message in svm.default(x, y, scale = scale, ..., na.action = na.action):\n",
      "\"Variable(s) 'num3d' constant. Cannot scale data.\"Warning message in svm.default(x, y, scale = scale, ..., na.action = na.action):\n",
      "\"Variable(s) 'num3d' constant. Cannot scale data.\"Warning message in svm.default(x, y, scale = scale, ..., na.action = na.action):\n",
      "\"Variable(s) 'num3d' constant. Cannot scale data.\"Warning message in svm.default(x, y, scale = scale, ..., na.action = na.action):\n",
      "\"Variable(s) 'num3d' constant. Cannot scale data.\"Warning message in svm.default(x, y, scale = scale, ..., na.action = na.action):\n",
      "\"Variable(s) 'num3d' constant. Cannot scale data.\"Warning message in svm.default(x, y, scale = scale, ..., na.action = na.action):\n",
      "\"Variable(s) 'num3d' constant. Cannot scale data.\"Warning message in svm.default(x, y, scale = scale, ..., na.action = na.action):\n",
      "\"Variable(s) 'num3d' constant. Cannot scale data.\"Warning message in svm.default(x, y, scale = scale, ..., na.action = na.action):\n",
      "\"Variable(s) 'num3d' constant. Cannot scale data.\"Warning message in svm.default(x, y, scale = scale, ..., na.action = na.action):\n",
      "\"Variable(s) 'num3d' constant. Cannot scale data.\"Warning message in svm.default(x, y, scale = scale, ..., na.action = na.action):\n",
      "\"Variable(s) 'num3d' constant. Cannot scale data.\"Warning message in svm.default(x, y, scale = scale, ..., na.action = na.action):\n",
      "\"Variable(s) 'num3d' constant. Cannot scale data.\"Warning message in svm.default(x, y, scale = scale, ..., na.action = na.action):\n",
      "\"Variable(s) 'num3d' constant. Cannot scale data.\"Warning message in svm.default(x, y, scale = scale, ..., na.action = na.action):\n",
      "\"Variable(s) 'num3d' constant. Cannot scale data.\"Warning message in svm.default(x, y, scale = scale, ..., na.action = na.action):\n",
      "\"Variable(s) 'num3d' constant. Cannot scale data.\"Warning message in svm.default(x, y, scale = scale, ..., na.action = na.action):\n",
      "\"Variable(s) 'num3d' constant. Cannot scale data.\"Warning message in svm.default(x, y, scale = scale, ..., na.action = na.action):\n",
      "\"Variable(s) 'num3d' constant. Cannot scale data.\"Warning message in svm.default(x, y, scale = scale, ..., na.action = na.action):\n",
      "\"Variable(s) 'num3d' constant. Cannot scale data.\"Warning message in svm.default(x, y, scale = scale, ..., na.action = na.action):\n",
      "\"Variable(s) 'num3d' constant. Cannot scale data.\"Warning message in svm.default(x, y, scale = scale, ..., na.action = na.action):\n",
      "\"Variable(s) 'num3d' constant. Cannot scale data.\"Warning message in svm.default(x, y, scale = scale, ..., na.action = na.action):\n",
      "\"Variable(s) 'num3d' constant. Cannot scale data.\"Warning message in svm.default(x, y, scale = scale, ..., na.action = na.action):\n",
      "\"Variable(s) 'num3d' constant. Cannot scale data.\"Warning message in svm.default(x, y, scale = scale, ..., na.action = na.action):\n",
      "\"Variable(s) 'num3d' constant. Cannot scale data.\"Warning message in svm.default(x, y, scale = scale, ..., na.action = na.action):\n",
      "\"Variable(s) 'num3d' constant. Cannot scale data.\"Warning message in svm.default(x, y, scale = scale, ..., na.action = na.action):\n",
      "\"Variable(s) 'num3d' constant. Cannot scale data.\"Warning message in svm.default(x, y, scale = scale, ..., na.action = na.action):\n",
      "\"Variable(s) 'num3d' constant. Cannot scale data.\"Warning message in svm.default(x, y, scale = scale, ..., na.action = na.action):\n",
      "\"Variable(s) 'num3d' constant. Cannot scale data.\"Warning message in svm.default(x, y, scale = scale, ..., na.action = na.action):\n",
      "\"Variable(s) 'num3d' constant. Cannot scale data.\"Warning message in svm.default(x, y, scale = scale, ..., na.action = na.action):\n",
      "\"Variable(s) 'num3d' constant. Cannot scale data.\"Warning message in svm.default(x, y, scale = scale, ..., na.action = na.action):\n",
      "\"Variable(s) 'num3d' constant. Cannot scale data.\"Warning message in svm.default(x, y, scale = scale, ..., na.action = na.action):\n",
      "\"Variable(s) 'num3d' constant. Cannot scale data.\"Warning message in svm.default(x, y, scale = scale, ..., na.action = na.action):\n",
      "\"Variable(s) 'num3d' constant. Cannot scale data.\"Warning message in svm.default(x, y, scale = scale, ..., na.action = na.action):\n",
      "\"Variable(s) 'num3d' constant. Cannot scale data.\"Warning message in svm.default(x, y, scale = scale, ..., na.action = na.action):\n",
      "\"Variable(s) 'num3d' constant. Cannot scale data.\"Warning message in svm.default(x, y, scale = scale, ..., na.action = na.action):\n",
      "\"Variable(s) 'num3d' constant. Cannot scale data.\"Warning message in svm.default(x, y, scale = scale, ..., na.action = na.action):\n",
      "\"Variable(s) 'num3d' constant. Cannot scale data.\"Warning message in svm.default(x, y, scale = scale, ..., na.action = na.action):\n",
      "\"Variable(s) 'num3d' constant. Cannot scale data.\"Warning message in svm.default(x, y, scale = scale, ..., na.action = na.action):\n",
      "\"Variable(s) 'num3d' constant. Cannot scale data.\"Warning message in svm.default(x, y, scale = scale, ..., na.action = na.action):\n",
      "\"Variable(s) 'num3d' constant. Cannot scale data.\"Warning message in svm.default(x, y, scale = scale, ..., na.action = na.action):\n"
     ]
    },
    {
     "name": "stderr",
     "output_type": "stream",
     "text": [
      "\"Variable(s) 'num3d' constant. Cannot scale data.\"Warning message in svm.default(x, y, scale = scale, ..., na.action = na.action):\n",
      "\"Variable(s) 'num3d' constant. Cannot scale data.\"Warning message in svm.default(x, y, scale = scale, ..., na.action = na.action):\n",
      "\"Variable(s) 'num3d' constant. Cannot scale data.\"Warning message in svm.default(x, y, scale = scale, ..., na.action = na.action):\n",
      "\"Variable(s) 'num3d' constant. Cannot scale data.\"Warning message in svm.default(x, y, scale = scale, ..., na.action = na.action):\n",
      "\"Variable(s) 'num3d' constant. Cannot scale data.\"Warning message in svm.default(x, y, scale = scale, ..., na.action = na.action):\n",
      "\"Variable(s) 'num3d' constant. Cannot scale data.\"Warning message in svm.default(x, y, scale = scale, ..., na.action = na.action):\n",
      "\"Variable(s) 'num3d' constant. Cannot scale data.\"Warning message in svm.default(x, y, scale = scale, ..., na.action = na.action):\n",
      "\"Variable(s) 'num3d' constant. Cannot scale data.\"Warning message in svm.default(x, y, scale = scale, ..., na.action = na.action):\n",
      "\"Variable(s) 'num3d' constant. Cannot scale data.\"Warning message in svm.default(x, y, scale = scale, ..., na.action = na.action):\n",
      "\"Variable(s) 'num3d' constant. Cannot scale data.\"Warning message in svm.default(x, y, scale = scale, ..., na.action = na.action):\n",
      "\"Variable(s) 'num3d' constant. Cannot scale data.\"Warning message in svm.default(x, y, scale = scale, ..., na.action = na.action):\n",
      "\"Variable(s) 'num3d' constant. Cannot scale data.\"Warning message in svm.default(x, y, scale = scale, ..., na.action = na.action):\n",
      "\"Variable(s) 'num3d' constant. Cannot scale data.\"Warning message in svm.default(x, y, scale = scale, ..., na.action = na.action):\n",
      "\"Variable(s) 'num3d' constant. Cannot scale data.\"Warning message in svm.default(x, y, scale = scale, ..., na.action = na.action):\n",
      "\"Variable(s) 'num3d' constant. Cannot scale data.\"Warning message in svm.default(x, y, scale = scale, ..., na.action = na.action):\n",
      "\"Variable(s) 'num3d' constant. Cannot scale data.\"Warning message in svm.default(x, y, scale = scale, ..., na.action = na.action):\n",
      "\"Variable(s) 'num3d' constant. Cannot scale data.\"Warning message in svm.default(x, y, scale = scale, ..., na.action = na.action):\n",
      "\"Variable(s) 'num3d' constant. Cannot scale data.\"Warning message in svm.default(x, y, scale = scale, ..., na.action = na.action):\n",
      "\"Variable(s) 'num3d' constant. Cannot scale data.\"Warning message in svm.default(x, y, scale = scale, ..., na.action = na.action):\n",
      "\"Variable(s) 'num3d' constant. Cannot scale data.\"Warning message in svm.default(x, y, scale = scale, ..., na.action = na.action):\n",
      "\"Variable(s) 'num3d' constant. Cannot scale data.\"Warning message in svm.default(x, y, scale = scale, ..., na.action = na.action):\n",
      "\"Variable(s) 'num3d' constant. Cannot scale data.\"Warning message in svm.default(x, y, scale = scale, ..., na.action = na.action):\n",
      "\"Variable(s) 'num3d' constant. Cannot scale data.\"Warning message in svm.default(x, y, scale = scale, ..., na.action = na.action):\n",
      "\"Variable(s) 'num3d' constant. Cannot scale data.\"Warning message in svm.default(x, y, scale = scale, ..., na.action = na.action):\n",
      "\"Variable(s) 'num3d' constant. Cannot scale data.\"Warning message in svm.default(x, y, scale = scale, ..., na.action = na.action):\n",
      "\"Variable(s) 'num3d' constant. Cannot scale data.\""
     ]
    },
    {
     "data": {
      "text/plain": [
       "\n",
       "Parameter tuning of 'svm':\n",
       "\n",
       "- sampling method: 10-fold cross validation \n",
       "\n",
       "- best parameters:\n",
       " cost gamma\n",
       "   10 0.001\n",
       "\n",
       "- best performance: 0.2011586 \n"
      ]
     },
     "metadata": {},
     "output_type": "display_data"
    }
   ],
   "source": [
    "tune.svm.radial = tune(svm, y~., data = XTrain, kernel = \"radial\", \n",
    "                       ranges = list(cost = c(0.1, 1, 10), gamma = c(1e-05, 1e-04, 0.001, 0.01, 0.1)))\n",
    "tune.svm.radial\n",
    "best.svm.radial = tune.svm.radial$best.model\n",
    "best.svm.radial.perf = tune.svm.radial$best.performance"
   ]
  },
  {
   "cell_type": "markdown",
   "metadata": {},
   "source": [
    "### Kernel polynomial"
   ]
  },
  {
   "cell_type": "markdown",
   "metadata": {},
   "source": [
    "### Kernel sigmoide"
   ]
  },
  {
   "cell_type": "code",
   "execution_count": null,
   "metadata": {},
   "outputs": [
    {
     "name": "stderr",
     "output_type": "stream",
     "text": [
      "Warning message in svm.default(x, y, scale = scale, ..., na.action = na.action):\n",
      "\"Variable(s) 'num3d' constant. Cannot scale data.\"Warning message in svm.default(x, y, scale = scale, ..., na.action = na.action):\n",
      "\"Variable(s) 'num3d' constant. Cannot scale data.\"Warning message in svm.default(x, y, scale = scale, ..., na.action = na.action):\n",
      "\"Variable(s) 'num3d' constant. Cannot scale data.\"Warning message in svm.default(x, y, scale = scale, ..., na.action = na.action):\n",
      "\"Variable(s) 'num3d' constant. Cannot scale data.\"Warning message in svm.default(x, y, scale = scale, ..., na.action = na.action):\n",
      "\"Variable(s) 'num3d' constant. Cannot scale data.\"Warning message in svm.default(x, y, scale = scale, ..., na.action = na.action):\n",
      "\"Variable(s) 'num3d' constant. Cannot scale data.\"Warning message in svm.default(x, y, scale = scale, ..., na.action = na.action):\n",
      "\"Variable(s) 'num3d' constant. Cannot scale data.\"Warning message in svm.default(x, y, scale = scale, ..., na.action = na.action):\n",
      "\"Variable(s) 'num3d' constant. Cannot scale data.\"Warning message in svm.default(x, y, scale = scale, ..., na.action = na.action):\n",
      "\"Variable(s) 'num3d' constant. Cannot scale data.\"Warning message in svm.default(x, y, scale = scale, ..., na.action = na.action):\n",
      "\"Variable(s) 'num3d' constant. Cannot scale data.\"Warning message in svm.default(x, y, scale = scale, ..., na.action = na.action):\n",
      "\"Variable(s) 'num3d' constant. Cannot scale data.\"Warning message in svm.default(x, y, scale = scale, ..., na.action = na.action):\n",
      "\"Variable(s) 'num3d' constant. Cannot scale data.\"Warning message in svm.default(x, y, scale = scale, ..., na.action = na.action):\n",
      "\"Variable(s) 'num3d' constant. Cannot scale data.\"Warning message in svm.default(x, y, scale = scale, ..., na.action = na.action):\n",
      "\"Variable(s) 'num3d' constant. Cannot scale data.\"Warning message in svm.default(x, y, scale = scale, ..., na.action = na.action):\n",
      "\"Variable(s) 'num3d' constant. Cannot scale data.\"Warning message in svm.default(x, y, scale = scale, ..., na.action = na.action):\n",
      "\"Variable(s) 'num3d' constant. Cannot scale data.\"Warning message in svm.default(x, y, scale = scale, ..., na.action = na.action):\n",
      "\"Variable(s) 'num3d' constant. Cannot scale data.\"Warning message in svm.default(x, y, scale = scale, ..., na.action = na.action):\n",
      "\"Variable(s) 'num3d' constant. Cannot scale data.\"Warning message in svm.default(x, y, scale = scale, ..., na.action = na.action):\n",
      "\"Variable(s) 'num3d' constant. Cannot scale data.\"Warning message in svm.default(x, y, scale = scale, ..., na.action = na.action):\n",
      "\"Variable(s) 'num3d' constant. Cannot scale data.\"Warning message in svm.default(x, y, scale = scale, ..., na.action = na.action):\n",
      "\"Variable(s) 'num3d' constant. Cannot scale data.\"Warning message in svm.default(x, y, scale = scale, ..., na.action = na.action):\n",
      "\"Variable(s) 'num3d' constant. Cannot scale data.\"Warning message in svm.default(x, y, scale = scale, ..., na.action = na.action):\n",
      "\"Variable(s) 'num3d' constant. Cannot scale data.\"Warning message in svm.default(x, y, scale = scale, ..., na.action = na.action):\n",
      "\"Variable(s) 'num3d' constant. Cannot scale data.\"Warning message in svm.default(x, y, scale = scale, ..., na.action = na.action):\n",
      "\"Variable(s) 'num3d' constant. Cannot scale data.\"Warning message in svm.default(x, y, scale = scale, ..., na.action = na.action):\n",
      "\"Variable(s) 'num3d' constant. Cannot scale data.\"Warning message in svm.default(x, y, scale = scale, ..., na.action = na.action):\n",
      "\"Variable(s) 'num3d' constant. Cannot scale data.\"Warning message in svm.default(x, y, scale = scale, ..., na.action = na.action):\n",
      "\"Variable(s) 'num3d' constant. Cannot scale data.\"Warning message in svm.default(x, y, scale = scale, ..., na.action = na.action):\n",
      "\"Variable(s) 'num3d' constant. Cannot scale data.\"Warning message in svm.default(x, y, scale = scale, ..., na.action = na.action):\n",
      "\"Variable(s) 'num3d' constant. Cannot scale data.\"Warning message in svm.default(x, y, scale = scale, ..., na.action = na.action):\n",
      "\"Variable(s) 'num3d' constant. Cannot scale data.\"Warning message in svm.default(x, y, scale = scale, ..., na.action = na.action):\n",
      "\"Variable(s) 'num3d' constant. Cannot scale data.\"Warning message in svm.default(x, y, scale = scale, ..., na.action = na.action):\n",
      "\"Variable(s) 'num3d' constant. Cannot scale data.\"Warning message in svm.default(x, y, scale = scale, ..., na.action = na.action):\n",
      "\"Variable(s) 'num3d' constant. Cannot scale data.\"Warning message in svm.default(x, y, scale = scale, ..., na.action = na.action):\n",
      "\"Variable(s) 'num3d' constant. Cannot scale data.\"Warning message in svm.default(x, y, scale = scale, ..., na.action = na.action):\n",
      "\"Variable(s) 'num3d' constant. Cannot scale data.\"Warning message in svm.default(x, y, scale = scale, ..., na.action = na.action):\n",
      "\"Variable(s) 'num3d' constant. Cannot scale data.\"Warning message in svm.default(x, y, scale = scale, ..., na.action = na.action):\n",
      "\"Variable(s) 'num3d' constant. Cannot scale data.\"Warning message in svm.default(x, y, scale = scale, ..., na.action = na.action):\n",
      "\"Variable(s) 'num3d' constant. Cannot scale data.\"Warning message in svm.default(x, y, scale = scale, ..., na.action = na.action):\n",
      "\"Variable(s) 'num3d' constant. Cannot scale data.\"Warning message in svm.default(x, y, scale = scale, ..., na.action = na.action):\n",
      "\"Variable(s) 'num3d' constant. Cannot scale data.\"Warning message in svm.default(x, y, scale = scale, ..., na.action = na.action):\n",
      "\"Variable(s) 'num3d' constant. Cannot scale data.\"Warning message in svm.default(x, y, scale = scale, ..., na.action = na.action):\n",
      "\"Variable(s) 'num3d' constant. Cannot scale data.\"Warning message in svm.default(x, y, scale = scale, ..., na.action = na.action):\n",
      "\"Variable(s) 'num3d' constant. Cannot scale data.\"Warning message in svm.default(x, y, scale = scale, ..., na.action = na.action):\n",
      "\"Variable(s) 'num3d' constant. Cannot scale data.\"Warning message in svm.default(x, y, scale = scale, ..., na.action = na.action):\n",
      "\"Variable(s) 'num3d' constant. Cannot scale data.\"Warning message in svm.default(x, y, scale = scale, ..., na.action = na.action):\n",
      "\"Variable(s) 'num3d' constant. Cannot scale data.\"Warning message in svm.default(x, y, scale = scale, ..., na.action = na.action):\n",
      "\"Variable(s) 'num3d' constant. Cannot scale data.\"Warning message in svm.default(x, y, scale = scale, ..., na.action = na.action):\n",
      "\"Variable(s) 'num3d' constant. Cannot scale data.\"Warning message in svm.default(x, y, scale = scale, ..., na.action = na.action):\n",
      "\"Variable(s) 'num3d' constant. Cannot scale data.\"Warning message in svm.default(x, y, scale = scale, ..., na.action = na.action):\n",
      "\"Variable(s) 'num3d' constant. Cannot scale data.\"Warning message in svm.default(x, y, scale = scale, ..., na.action = na.action):\n",
      "\"Variable(s) 'num3d' constant. Cannot scale data.\"Warning message in svm.default(x, y, scale = scale, ..., na.action = na.action):\n",
      "\"Variable(s) 'num3d' constant. Cannot scale data.\"Warning message in svm.default(x, y, scale = scale, ..., na.action = na.action):\n",
      "\"Variable(s) 'num3d' constant. Cannot scale data.\"Warning message in svm.default(x, y, scale = scale, ..., na.action = na.action):\n",
      "\"Variable(s) 'num3d' constant. Cannot scale data.\"Warning message in svm.default(x, y, scale = scale, ..., na.action = na.action):\n",
      "\"Variable(s) 'num3d' constant. Cannot scale data.\"Warning message in svm.default(x, y, scale = scale, ..., na.action = na.action):\n",
      "\"Variable(s) 'num3d' constant. Cannot scale data.\"Warning message in svm.default(x, y, scale = scale, ..., na.action = na.action):\n",
      "\"Variable(s) 'num3d' constant. Cannot scale data.\"Warning message in svm.default(x, y, scale = scale, ..., na.action = na.action):\n",
      "\"Variable(s) 'num3d' constant. Cannot scale data.\"Warning message in svm.default(x, y, scale = scale, ..., na.action = na.action):\n",
      "\"Variable(s) 'num3d' constant. Cannot scale data.\"Warning message in svm.default(x, y, scale = scale, ..., na.action = na.action):\n",
      "\"Variable(s) 'num3d' constant. Cannot scale data.\"Warning message in svm.default(x, y, scale = scale, ..., na.action = na.action):\n",
      "\"Variable(s) 'num3d' constant. Cannot scale data.\"Warning message in svm.default(x, y, scale = scale, ..., na.action = na.action):\n"
     ]
    },
    {
     "name": "stderr",
     "output_type": "stream",
     "text": [
      "\"Variable(s) 'num3d' constant. Cannot scale data.\"Warning message in svm.default(x, y, scale = scale, ..., na.action = na.action):\n",
      "\"Variable(s) 'num3d' constant. Cannot scale data.\"Warning message in svm.default(x, y, scale = scale, ..., na.action = na.action):\n",
      "\"Variable(s) 'num3d' constant. Cannot scale data.\"Warning message in svm.default(x, y, scale = scale, ..., na.action = na.action):\n",
      "\"Variable(s) 'num3d' constant. Cannot scale data.\"Warning message in svm.default(x, y, scale = scale, ..., na.action = na.action):\n",
      "\"Variable(s) 'num3d' constant. Cannot scale data.\"Warning message in svm.default(x, y, scale = scale, ..., na.action = na.action):\n",
      "\"Variable(s) 'num3d' constant. Cannot scale data.\"Warning message in svm.default(x, y, scale = scale, ..., na.action = na.action):\n",
      "\"Variable(s) 'num3d' constant. Cannot scale data.\"Warning message in svm.default(x, y, scale = scale, ..., na.action = na.action):\n",
      "\"Variable(s) 'num3d' constant. Cannot scale data.\"Warning message in svm.default(x, y, scale = scale, ..., na.action = na.action):\n",
      "\"Variable(s) 'num3d' constant. Cannot scale data.\"Warning message in svm.default(x, y, scale = scale, ..., na.action = na.action):\n",
      "\"Variable(s) 'num3d' constant. Cannot scale data.\"Warning message in svm.default(x, y, scale = scale, ..., na.action = na.action):\n",
      "\"Variable(s) 'num3d' constant. Cannot scale data.\"Warning message in svm.default(x, y, scale = scale, ..., na.action = na.action):\n",
      "\"Variable(s) 'num3d' constant. Cannot scale data.\"Warning message in svm.default(x, y, scale = scale, ..., na.action = na.action):\n",
      "\"Variable(s) 'num3d' constant. Cannot scale data.\"Warning message in svm.default(x, y, scale = scale, ..., na.action = na.action):\n",
      "\"Variable(s) 'num3d' constant. Cannot scale data.\"Warning message in svm.default(x, y, scale = scale, ..., na.action = na.action):\n",
      "\"Variable(s) 'num3d' constant. Cannot scale data.\"Warning message in svm.default(x, y, scale = scale, ..., na.action = na.action):\n",
      "\"Variable(s) 'num3d' constant. Cannot scale data.\"Warning message in svm.default(x, y, scale = scale, ..., na.action = na.action):\n",
      "\"Variable(s) 'num3d' constant. Cannot scale data.\"Warning message in svm.default(x, y, scale = scale, ..., na.action = na.action):\n",
      "\"Variable(s) 'num3d' constant. Cannot scale data.\"Warning message in svm.default(x, y, scale = scale, ..., na.action = na.action):\n",
      "\"Variable(s) 'num3d' constant. Cannot scale data.\"Warning message in svm.default(x, y, scale = scale, ..., na.action = na.action):\n",
      "\"Variable(s) 'num3d' constant. Cannot scale data.\"Warning message in svm.default(x, y, scale = scale, ..., na.action = na.action):\n",
      "\"Variable(s) 'num3d' constant. Cannot scale data.\"Warning message in svm.default(x, y, scale = scale, ..., na.action = na.action):\n",
      "\"Variable(s) 'num3d' constant. Cannot scale data.\"Warning message in svm.default(x, y, scale = scale, ..., na.action = na.action):\n",
      "\"Variable(s) 'num3d' constant. Cannot scale data.\"Warning message in svm.default(x, y, scale = scale, ..., na.action = na.action):\n",
      "\"Variable(s) 'num3d' constant. Cannot scale data.\"Warning message in svm.default(x, y, scale = scale, ..., na.action = na.action):\n",
      "\"Variable(s) 'num3d' constant. Cannot scale data.\"Warning message in svm.default(x, y, scale = scale, ..., na.action = na.action):\n",
      "\"Variable(s) 'num3d' constant. Cannot scale data.\"Warning message in svm.default(x, y, scale = scale, ..., na.action = na.action):\n",
      "\"Variable(s) 'num3d' constant. Cannot scale data.\"Warning message in svm.default(x, y, scale = scale, ..., na.action = na.action):\n",
      "\"Variable(s) 'num3d' constant. Cannot scale data.\"Warning message in svm.default(x, y, scale = scale, ..., na.action = na.action):\n",
      "\"Variable(s) 'num3d' constant. Cannot scale data.\"Warning message in svm.default(x, y, scale = scale, ..., na.action = na.action):\n",
      "\"Variable(s) 'num3d' constant. Cannot scale data.\"Warning message in svm.default(x, y, scale = scale, ..., na.action = na.action):\n",
      "\"Variable(s) 'num3d' constant. Cannot scale data.\"Warning message in svm.default(x, y, scale = scale, ..., na.action = na.action):\n",
      "\"Variable(s) 'num3d' constant. Cannot scale data.\"Warning message in svm.default(x, y, scale = scale, ..., na.action = na.action):\n",
      "\"Variable(s) 'num3d' constant. Cannot scale data.\"Warning message in svm.default(x, y, scale = scale, ..., na.action = na.action):\n",
      "\"Variable(s) 'num3d' constant. Cannot scale data.\"Warning message in svm.default(x, y, scale = scale, ..., na.action = na.action):\n",
      "\"Variable(s) 'num3d' constant. Cannot scale data.\"Warning message in svm.default(x, y, scale = scale, ..., na.action = na.action):\n",
      "\"Variable(s) 'num3d' constant. Cannot scale data.\"Warning message in svm.default(x, y, scale = scale, ..., na.action = na.action):\n",
      "\"Variable(s) 'num3d' constant. Cannot scale data.\"Warning message in svm.default(x, y, scale = scale, ..., na.action = na.action):\n",
      "\"Variable(s) 'num3d' constant. Cannot scale data.\"Warning message in svm.default(x, y, scale = scale, ..., na.action = na.action):\n",
      "\"Variable(s) 'num3d' constant. Cannot scale data.\"Warning message in svm.default(x, y, scale = scale, ..., na.action = na.action):\n",
      "\"Variable(s) 'num3d' constant. Cannot scale data.\"Warning message in svm.default(x, y, scale = scale, ..., na.action = na.action):\n",
      "\"Variable(s) 'num3d' constant. Cannot scale data.\"Warning message in svm.default(x, y, scale = scale, ..., na.action = na.action):\n",
      "\"Variable(s) 'num3d' constant. Cannot scale data.\"Warning message in svm.default(x, y, scale = scale, ..., na.action = na.action):\n",
      "\"Variable(s) 'num3d' constant. Cannot scale data.\"Warning message in svm.default(x, y, scale = scale, ..., na.action = na.action):\n",
      "\"Variable(s) 'num3d' constant. Cannot scale data.\"Warning message in svm.default(x, y, scale = scale, ..., na.action = na.action):\n",
      "\"Variable(s) 'num3d' constant. Cannot scale data.\"Warning message in svm.default(x, y, scale = scale, ..., na.action = na.action):\n",
      "\"Variable(s) 'num3d' constant. Cannot scale data.\"Warning message in svm.default(x, y, scale = scale, ..., na.action = na.action):\n",
      "\"Variable(s) 'num3d' constant. Cannot scale data.\"Warning message in svm.default(x, y, scale = scale, ..., na.action = na.action):\n",
      "\"Variable(s) 'num3d' constant. Cannot scale data.\"Warning message in svm.default(x, y, scale = scale, ..., na.action = na.action):\n",
      "\"Variable(s) 'num3d' constant. Cannot scale data.\"Warning message in svm.default(x, y, scale = scale, ..., na.action = na.action):\n",
      "\"Variable(s) 'num3d' constant. Cannot scale data.\"Warning message in svm.default(x, y, scale = scale, ..., na.action = na.action):\n",
      "\"Variable(s) 'num3d' constant. Cannot scale data.\"Warning message in svm.default(x, y, scale = scale, ..., na.action = na.action):\n",
      "\"Variable(s) 'num3d' constant. Cannot scale data.\"Warning message in svm.default(x, y, scale = scale, ..., na.action = na.action):\n",
      "\"Variable(s) 'num3d' constant. Cannot scale data.\"Warning message in svm.default(x, y, scale = scale, ..., na.action = na.action):\n",
      "\"Variable(s) 'num3d' constant. Cannot scale data.\"Warning message in svm.default(x, y, scale = scale, ..., na.action = na.action):\n",
      "\"Variable(s) 'num3d' constant. Cannot scale data.\"Warning message in svm.default(x, y, scale = scale, ..., na.action = na.action):\n",
      "\"Variable(s) 'num3d' constant. Cannot scale data.\"Warning message in svm.default(x, y, scale = scale, ..., na.action = na.action):\n",
      "\"Variable(s) 'num3d' constant. Cannot scale data.\"Warning message in svm.default(x, y, scale = scale, ..., na.action = na.action):\n",
      "\"Variable(s) 'num3d' constant. Cannot scale data.\"Warning message in svm.default(x, y, scale = scale, ..., na.action = na.action):\n",
      "\"Variable(s) 'num3d' constant. Cannot scale data.\"Warning message in svm.default(x, y, scale = scale, ..., na.action = na.action):\n",
      "\"Variable(s) 'num3d' constant. Cannot scale data.\"Warning message in svm.default(x, y, scale = scale, ..., na.action = na.action):\n",
      "\"Variable(s) 'num3d' constant. Cannot scale data.\"Warning message in svm.default(x, y, scale = scale, ..., na.action = na.action):\n",
      "\"Variable(s) 'num3d' constant. Cannot scale data.\"Warning message in svm.default(x, y, scale = scale, ..., na.action = na.action):\n",
      "\"Variable(s) 'num3d' constant. Cannot scale data.\"Warning message in svm.default(x, y, scale = scale, ..., na.action = na.action):\n"
     ]
    },
    {
     "name": "stderr",
     "output_type": "stream",
     "text": [
      "\"Variable(s) 'num3d' constant. Cannot scale data.\"Warning message in svm.default(x, y, scale = scale, ..., na.action = na.action):\n",
      "\"Variable(s) 'num3d' constant. Cannot scale data.\"Warning message in svm.default(x, y, scale = scale, ..., na.action = na.action):\n",
      "\"Variable(s) 'num3d' constant. Cannot scale data.\"Warning message in svm.default(x, y, scale = scale, ..., na.action = na.action):\n",
      "\"Variable(s) 'num3d' constant. Cannot scale data.\"Warning message in svm.default(x, y, scale = scale, ..., na.action = na.action):\n",
      "\"Variable(s) 'num3d' constant. Cannot scale data.\"Warning message in svm.default(x, y, scale = scale, ..., na.action = na.action):\n",
      "\"Variable(s) 'num3d' constant. Cannot scale data.\"Warning message in svm.default(x, y, scale = scale, ..., na.action = na.action):\n",
      "\"Variable(s) 'num3d' constant. Cannot scale data.\"Warning message in svm.default(x, y, scale = scale, ..., na.action = na.action):\n",
      "\"Variable(s) 'num3d' constant. Cannot scale data.\"Warning message in svm.default(x, y, scale = scale, ..., na.action = na.action):\n",
      "\"Variable(s) 'num3d' constant. Cannot scale data.\"Warning message in svm.default(x, y, scale = scale, ..., na.action = na.action):\n",
      "\"Variable(s) 'num3d' constant. Cannot scale data.\"Warning message in svm.default(x, y, scale = scale, ..., na.action = na.action):\n",
      "\"Variable(s) 'num3d' constant. Cannot scale data.\"Warning message in svm.default(x, y, scale = scale, ..., na.action = na.action):\n",
      "\"Variable(s) 'num3d' constant. Cannot scale data.\"Warning message in svm.default(x, y, scale = scale, ..., na.action = na.action):\n",
      "\"Variable(s) 'num3d' constant. Cannot scale data.\"Warning message in svm.default(x, y, scale = scale, ..., na.action = na.action):\n",
      "\"Variable(s) 'num3d' constant. Cannot scale data.\"Warning message in svm.default(x, y, scale = scale, ..., na.action = na.action):\n",
      "\"Variable(s) 'num3d' constant. Cannot scale data.\"Warning message in svm.default(x, y, scale = scale, ..., na.action = na.action):\n",
      "\"Variable(s) 'num3d' constant. Cannot scale data.\"Warning message in svm.default(x, y, scale = scale, ..., na.action = na.action):\n",
      "\"Variable(s) 'num3d' constant. Cannot scale data.\"Warning message in svm.default(x, y, scale = scale, ..., na.action = na.action):\n",
      "\"Variable(s) 'num3d' constant. Cannot scale data.\"Warning message in svm.default(x, y, scale = scale, ..., na.action = na.action):\n",
      "\"Variable(s) 'num3d' constant. Cannot scale data.\"Warning message in svm.default(x, y, scale = scale, ..., na.action = na.action):\n",
      "\"Variable(s) 'num3d' constant. Cannot scale data.\"Warning message in svm.default(x, y, scale = scale, ..., na.action = na.action):\n",
      "\"Variable(s) 'num3d' constant. Cannot scale data.\"Warning message in svm.default(x, y, scale = scale, ..., na.action = na.action):\n",
      "\"Variable(s) 'num3d' constant. Cannot scale data.\"Warning message in svm.default(x, y, scale = scale, ..., na.action = na.action):\n",
      "\"Variable(s) 'num3d' constant. Cannot scale data.\"Warning message in svm.default(x, y, scale = scale, ..., na.action = na.action):\n",
      "\"Variable(s) 'num3d' constant. Cannot scale data.\"Warning message in svm.default(x, y, scale = scale, ..., na.action = na.action):\n",
      "\"Variable(s) 'num3d' constant. Cannot scale data.\"Warning message in svm.default(x, y, scale = scale, ..., na.action = na.action):\n",
      "\"Variable(s) 'num3d' constant. Cannot scale data.\"Warning message in svm.default(x, y, scale = scale, ..., na.action = na.action):\n",
      "\"Variable(s) 'num3d' constant. Cannot scale data.\"Warning message in svm.default(x, y, scale = scale, ..., na.action = na.action):\n",
      "\"Variable(s) 'num3d' constant. Cannot scale data.\"Warning message in svm.default(x, y, scale = scale, ..., na.action = na.action):\n",
      "\"Variable(s) 'num3d' constant. Cannot scale data.\"Warning message in svm.default(x, y, scale = scale, ..., na.action = na.action):\n",
      "\"Variable(s) 'num3d' constant. Cannot scale data.\"Warning message in svm.default(x, y, scale = scale, ..., na.action = na.action):\n",
      "\"Variable(s) 'num3d' constant. Cannot scale data.\"Warning message in svm.default(x, y, scale = scale, ..., na.action = na.action):\n",
      "\"Variable(s) 'num3d' constant. Cannot scale data.\"Warning message in svm.default(x, y, scale = scale, ..., na.action = na.action):\n",
      "\"Variable(s) 'num3d' constant. Cannot scale data.\"Warning message in svm.default(x, y, scale = scale, ..., na.action = na.action):\n",
      "\"Variable(s) 'num3d' constant. Cannot scale data.\"Warning message in svm.default(x, y, scale = scale, ..., na.action = na.action):\n",
      "\"Variable(s) 'num3d' constant. Cannot scale data.\"Warning message in svm.default(x, y, scale = scale, ..., na.action = na.action):\n",
      "\"Variable(s) 'num3d' constant. Cannot scale data.\"Warning message in svm.default(x, y, scale = scale, ..., na.action = na.action):\n",
      "\"Variable(s) 'num3d' constant. Cannot scale data.\"Warning message in svm.default(x, y, scale = scale, ..., na.action = na.action):\n",
      "\"Variable(s) 'num3d' constant. Cannot scale data.\"Warning message in svm.default(x, y, scale = scale, ..., na.action = na.action):\n",
      "\"Variable(s) 'num3d' constant. Cannot scale data.\"Warning message in svm.default(x, y, scale = scale, ..., na.action = na.action):\n",
      "\"Variable(s) 'num3d' constant. Cannot scale data.\"Warning message in svm.default(x, y, scale = scale, ..., na.action = na.action):\n",
      "\"Variable(s) 'num3d' constant. Cannot scale data.\"Warning message in svm.default(x, y, scale = scale, ..., na.action = na.action):\n",
      "\"Variable(s) 'num3d' constant. Cannot scale data.\"Warning message in svm.default(x, y, scale = scale, ..., na.action = na.action):\n",
      "\"Variable(s) 'num3d' constant. Cannot scale data.\"Warning message in svm.default(x, y, scale = scale, ..., na.action = na.action):\n",
      "\"Variable(s) 'num3d' constant. Cannot scale data.\"Warning message in svm.default(x, y, scale = scale, ..., na.action = na.action):\n",
      "\"Variable(s) 'num3d' constant. Cannot scale data.\"Warning message in svm.default(x, y, scale = scale, ..., na.action = na.action):\n",
      "\"Variable(s) 'num3d' constant. Cannot scale data.\"Warning message in svm.default(x, y, scale = scale, ..., na.action = na.action):\n",
      "\"Variable(s) 'num3d' constant. Cannot scale data.\"Warning message in svm.default(x, y, scale = scale, ..., na.action = na.action):\n",
      "\"Variable(s) 'num3d' constant. Cannot scale data.\"Warning message in svm.default(x, y, scale = scale, ..., na.action = na.action):\n",
      "\"Variable(s) 'num3d' constant. Cannot scale data.\"Warning message in svm.default(x, y, scale = scale, ..., na.action = na.action):\n",
      "\"Variable(s) 'num3d' constant. Cannot scale data.\"Warning message in svm.default(x, y, scale = scale, ..., na.action = na.action):\n",
      "\"Variable(s) 'num3d' constant. Cannot scale data.\"Warning message in svm.default(x, y, scale = scale, ..., na.action = na.action):\n",
      "\"Variable(s) 'num3d' constant. Cannot scale data.\"Warning message in svm.default(x, y, scale = scale, ..., na.action = na.action):\n",
      "\"Variable(s) 'num3d' constant. Cannot scale data.\"Warning message in svm.default(x, y, scale = scale, ..., na.action = na.action):\n",
      "\"Variable(s) 'num3d' constant. Cannot scale data.\"Warning message in svm.default(x, y, scale = scale, ..., na.action = na.action):\n",
      "\"Variable(s) 'num3d' constant. Cannot scale data.\"Warning message in svm.default(x, y, scale = scale, ..., na.action = na.action):\n",
      "\"Variable(s) 'num3d' constant. Cannot scale data.\"Warning message in svm.default(x, y, scale = scale, ..., na.action = na.action):\n",
      "\"Variable(s) 'num3d' constant. Cannot scale data.\"Warning message in svm.default(x, y, scale = scale, ..., na.action = na.action):\n",
      "\"Variable(s) 'num3d' constant. Cannot scale data.\"Warning message in svm.default(x, y, scale = scale, ..., na.action = na.action):\n",
      "\"Variable(s) 'num3d' constant. Cannot scale data.\"Warning message in svm.default(x, y, scale = scale, ..., na.action = na.action):\n",
      "\"Variable(s) 'num3d' constant. Cannot scale data.\"Warning message in svm.default(x, y, scale = scale, ..., na.action = na.action):\n",
      "\"Variable(s) 'num3d' constant. Cannot scale data.\"Warning message in svm.default(x, y, scale = scale, ..., na.action = na.action):\n",
      "\"Variable(s) 'num3d' constant. Cannot scale data.\"Warning message in svm.default(x, y, scale = scale, ..., na.action = na.action):\n",
      "\"Variable(s) 'num3d' constant. Cannot scale data.\"Warning message in svm.default(x, y, scale = scale, ..., na.action = na.action):\n"
     ]
    },
    {
     "name": "stderr",
     "output_type": "stream",
     "text": [
      "\"Variable(s) 'num3d' constant. Cannot scale data.\"Warning message in svm.default(x, y, scale = scale, ..., na.action = na.action):\n",
      "\"Variable(s) 'num3d' constant. Cannot scale data.\"Warning message in svm.default(x, y, scale = scale, ..., na.action = na.action):\n",
      "\"Variable(s) 'num3d' constant. Cannot scale data.\"Warning message in svm.default(x, y, scale = scale, ..., na.action = na.action):\n",
      "\"Variable(s) 'num3d' constant. Cannot scale data.\"Warning message in svm.default(x, y, scale = scale, ..., na.action = na.action):\n",
      "\"Variable(s) 'num3d' constant. Cannot scale data.\"Warning message in svm.default(x, y, scale = scale, ..., na.action = na.action):\n",
      "\"Variable(s) 'num3d' constant. Cannot scale data.\"Warning message in svm.default(x, y, scale = scale, ..., na.action = na.action):\n",
      "\"Variable(s) 'num3d' constant. Cannot scale data.\"Warning message in svm.default(x, y, scale = scale, ..., na.action = na.action):\n",
      "\"Variable(s) 'num3d' constant. Cannot scale data.\"Warning message in svm.default(x, y, scale = scale, ..., na.action = na.action):\n",
      "\"Variable(s) 'num3d' constant. Cannot scale data.\"Warning message in svm.default(x, y, scale = scale, ..., na.action = na.action):\n",
      "\"Variable(s) 'num3d' constant. Cannot scale data.\"Warning message in svm.default(x, y, scale = scale, ..., na.action = na.action):\n",
      "\"Variable(s) 'num3d' constant. Cannot scale data.\"Warning message in svm.default(x, y, scale = scale, ..., na.action = na.action):\n",
      "\"Variable(s) 'num3d' constant. Cannot scale data.\"Warning message in svm.default(x, y, scale = scale, ..., na.action = na.action):\n",
      "\"Variable(s) 'num3d' constant. Cannot scale data.\"Warning message in svm.default(x, y, scale = scale, ..., na.action = na.action):\n",
      "\"Variable(s) 'num3d' constant. Cannot scale data.\"Warning message in svm.default(x, y, scale = scale, ..., na.action = na.action):\n",
      "\"Variable(s) 'num3d' constant. Cannot scale data.\"Warning message in svm.default(x, y, scale = scale, ..., na.action = na.action):\n",
      "\"Variable(s) 'num3d' constant. Cannot scale data.\"Warning message in svm.default(x, y, scale = scale, ..., na.action = na.action):\n",
      "\"Variable(s) 'num3d' constant. Cannot scale data.\"Warning message in svm.default(x, y, scale = scale, ..., na.action = na.action):\n",
      "\"Variable(s) 'num3d' constant. Cannot scale data.\"Warning message in svm.default(x, y, scale = scale, ..., na.action = na.action):\n",
      "\"Variable(s) 'num3d' constant. Cannot scale data.\"Warning message in svm.default(x, y, scale = scale, ..., na.action = na.action):\n",
      "\"Variable(s) 'num3d' constant. Cannot scale data.\"Warning message in svm.default(x, y, scale = scale, ..., na.action = na.action):\n",
      "\"Variable(s) 'num3d' constant. Cannot scale data.\"Warning message in svm.default(x, y, scale = scale, ..., na.action = na.action):\n",
      "\"Variable(s) 'num3d' constant. Cannot scale data.\"Warning message in svm.default(x, y, scale = scale, ..., na.action = na.action):\n",
      "\"Variable(s) 'num3d' constant. Cannot scale data.\"Warning message in svm.default(x, y, scale = scale, ..., na.action = na.action):\n",
      "\"Variable(s) 'num3d' constant. Cannot scale data.\"Warning message in svm.default(x, y, scale = scale, ..., na.action = na.action):\n",
      "\"Variable(s) 'num3d' constant. Cannot scale data.\"Warning message in svm.default(x, y, scale = scale, ..., na.action = na.action):\n",
      "\"Variable(s) 'num3d' constant. Cannot scale data.\"Warning message in svm.default(x, y, scale = scale, ..., na.action = na.action):\n",
      "\"Variable(s) 'num3d' constant. Cannot scale data.\"Warning message in svm.default(x, y, scale = scale, ..., na.action = na.action):\n",
      "\"Variable(s) 'num3d' constant. Cannot scale data.\"Warning message in svm.default(x, y, scale = scale, ..., na.action = na.action):\n",
      "\"Variable(s) 'num3d' constant. Cannot scale data.\"Warning message in svm.default(x, y, scale = scale, ..., na.action = na.action):\n",
      "\"Variable(s) 'num3d' constant. Cannot scale data.\"Warning message in svm.default(x, y, scale = scale, ..., na.action = na.action):\n",
      "\"Variable(s) 'num3d' constant. Cannot scale data.\"Warning message in svm.default(x, y, scale = scale, ..., na.action = na.action):\n",
      "\"Variable(s) 'num3d' constant. Cannot scale data.\"Warning message in svm.default(x, y, scale = scale, ..., na.action = na.action):\n",
      "\"Variable(s) 'num3d' constant. Cannot scale data.\"Warning message in svm.default(x, y, scale = scale, ..., na.action = na.action):\n",
      "\"Variable(s) 'num3d' constant. Cannot scale data.\"Warning message in svm.default(x, y, scale = scale, ..., na.action = na.action):\n",
      "\"Variable(s) 'num3d' constant. Cannot scale data.\"Warning message in svm.default(x, y, scale = scale, ..., na.action = na.action):\n",
      "\"Variable(s) 'num3d' constant. Cannot scale data.\"Warning message in svm.default(x, y, scale = scale, ..., na.action = na.action):\n",
      "\"Variable(s) 'num3d' constant. Cannot scale data.\"Warning message in svm.default(x, y, scale = scale, ..., na.action = na.action):\n",
      "\"Variable(s) 'num3d' constant. Cannot scale data.\"Warning message in svm.default(x, y, scale = scale, ..., na.action = na.action):\n",
      "\"Variable(s) 'num3d' constant. Cannot scale data.\"Warning message in svm.default(x, y, scale = scale, ..., na.action = na.action):\n",
      "\"Variable(s) 'num3d' constant. Cannot scale data.\"Warning message in svm.default(x, y, scale = scale, ..., na.action = na.action):\n",
      "\"Variable(s) 'num3d' constant. Cannot scale data.\"Warning message in svm.default(x, y, scale = scale, ..., na.action = na.action):\n",
      "\"Variable(s) 'num3d' constant. Cannot scale data.\"Warning message in svm.default(x, y, scale = scale, ..., na.action = na.action):\n",
      "\"Variable(s) 'num3d' constant. Cannot scale data.\"Warning message in svm.default(x, y, scale = scale, ..., na.action = na.action):\n",
      "\"Variable(s) 'num3d' constant. Cannot scale data.\"Warning message in svm.default(x, y, scale = scale, ..., na.action = na.action):\n",
      "\"Variable(s) 'num3d' constant. Cannot scale data.\"Warning message in svm.default(x, y, scale = scale, ..., na.action = na.action):\n",
      "\"Variable(s) 'num3d' constant. Cannot scale data.\"Warning message in svm.default(x, y, scale = scale, ..., na.action = na.action):\n",
      "\"Variable(s) 'num3d' constant. Cannot scale data.\"Warning message in svm.default(x, y, scale = scale, ..., na.action = na.action):\n",
      "\"Variable(s) 'num3d' constant. Cannot scale data.\"Warning message in svm.default(x, y, scale = scale, ..., na.action = na.action):\n",
      "\"Variable(s) 'num3d' constant. Cannot scale data.\"Warning message in svm.default(x, y, scale = scale, ..., na.action = na.action):\n",
      "\"Variable(s) 'num3d' constant. Cannot scale data.\"Warning message in svm.default(x, y, scale = scale, ..., na.action = na.action):\n",
      "\"Variable(s) 'num3d' constant. Cannot scale data.\"Warning message in svm.default(x, y, scale = scale, ..., na.action = na.action):\n",
      "\"Variable(s) 'num3d' constant. Cannot scale data.\"Warning message in svm.default(x, y, scale = scale, ..., na.action = na.action):\n",
      "\"Variable(s) 'num3d' constant. Cannot scale data.\"Warning message in svm.default(x, y, scale = scale, ..., na.action = na.action):\n",
      "\"Variable(s) 'num3d' constant. Cannot scale data.\"Warning message in svm.default(x, y, scale = scale, ..., na.action = na.action):\n",
      "\"Variable(s) 'num3d' constant. Cannot scale data.\"Warning message in svm.default(x, y, scale = scale, ..., na.action = na.action):\n",
      "\"Variable(s) 'num3d' constant. Cannot scale data.\"Warning message in svm.default(x, y, scale = scale, ..., na.action = na.action):\n",
      "\"Variable(s) 'num3d' constant. Cannot scale data.\"Warning message in svm.default(x, y, scale = scale, ..., na.action = na.action):\n",
      "\"Variable(s) 'num3d' constant. Cannot scale data.\"Warning message in svm.default(x, y, scale = scale, ..., na.action = na.action):\n",
      "\"Variable(s) 'num3d' constant. Cannot scale data.\"Warning message in svm.default(x, y, scale = scale, ..., na.action = na.action):\n",
      "\"Variable(s) 'num3d' constant. Cannot scale data.\"Warning message in svm.default(x, y, scale = scale, ..., na.action = na.action):\n",
      "\"Variable(s) 'num3d' constant. Cannot scale data.\"Warning message in svm.default(x, y, scale = scale, ..., na.action = na.action):\n",
      "\"Variable(s) 'num3d' constant. Cannot scale data.\"Warning message in svm.default(x, y, scale = scale, ..., na.action = na.action):\n",
      "\"Variable(s) 'num3d' constant. Cannot scale data.\"Warning message in svm.default(x, y, scale = scale, ..., na.action = na.action):\n"
     ]
    },
    {
     "name": "stderr",
     "output_type": "stream",
     "text": [
      "\"Variable(s) 'num3d' constant. Cannot scale data.\"Warning message in svm.default(x, y, scale = scale, ..., na.action = na.action):\n",
      "\"Variable(s) 'num3d' constant. Cannot scale data.\"Warning message in svm.default(x, y, scale = scale, ..., na.action = na.action):\n",
      "\"Variable(s) 'num3d' constant. Cannot scale data.\"Warning message in svm.default(x, y, scale = scale, ..., na.action = na.action):\n",
      "\"Variable(s) 'num3d' constant. Cannot scale data.\"Warning message in svm.default(x, y, scale = scale, ..., na.action = na.action):\n",
      "\"Variable(s) 'num3d' constant. Cannot scale data.\"Warning message in svm.default(x, y, scale = scale, ..., na.action = na.action):\n",
      "\"Variable(s) 'num3d' constant. Cannot scale data.\"Warning message in svm.default(x, y, scale = scale, ..., na.action = na.action):\n",
      "\"Variable(s) 'num3d' constant. Cannot scale data.\"Warning message in svm.default(x, y, scale = scale, ..., na.action = na.action):\n",
      "\"Variable(s) 'num3d' constant. Cannot scale data.\"Warning message in svm.default(x, y, scale = scale, ..., na.action = na.action):\n",
      "\"Variable(s) 'num3d' constant. Cannot scale data.\"Warning message in svm.default(x, y, scale = scale, ..., na.action = na.action):\n",
      "\"Variable(s) 'num3d' constant. Cannot scale data.\"Warning message in svm.default(x, y, scale = scale, ..., na.action = na.action):\n",
      "\"Variable(s) 'num3d' constant. Cannot scale data.\"Warning message in svm.default(x, y, scale = scale, ..., na.action = na.action):\n",
      "\"Variable(s) 'num3d' constant. Cannot scale data.\"Warning message in svm.default(x, y, scale = scale, ..., na.action = na.action):\n",
      "\"Variable(s) 'num3d' constant. Cannot scale data.\"Warning message in svm.default(x, y, scale = scale, ..., na.action = na.action):\n",
      "\"Variable(s) 'num3d' constant. Cannot scale data.\"Warning message in svm.default(x, y, scale = scale, ..., na.action = na.action):\n",
      "\"Variable(s) 'num3d' constant. Cannot scale data.\"Warning message in svm.default(x, y, scale = scale, ..., na.action = na.action):\n",
      "\"Variable(s) 'num3d' constant. Cannot scale data.\"Warning message in svm.default(x, y, scale = scale, ..., na.action = na.action):\n",
      "\"Variable(s) 'num3d' constant. Cannot scale data.\"Warning message in svm.default(x, y, scale = scale, ..., na.action = na.action):\n",
      "\"Variable(s) 'num3d' constant. Cannot scale data.\"Warning message in svm.default(x, y, scale = scale, ..., na.action = na.action):\n",
      "\"Variable(s) 'num3d' constant. Cannot scale data.\""
     ]
    }
   ],
   "source": [
    "tune.svm.poly = tune(svm, y~., data = XTrain, kernel = \"polynomial\", \n",
    "                     ranges = list(degree = c(2,3,4), cost = c(0.001, 0.01, 0.1), gamma = c(0.0001, 0.001, 0.01)))\n",
    "tune.svm.poly\n",
    "best.svm.poly = tune.svm.poly$best.model\n",
    "best.svm.poly.perf = tune.svm.poly$best.performance"
   ]
  },
  {
   "cell_type": "code",
   "execution_count": null,
   "metadata": {},
   "outputs": [],
   "source": [
    "tune.svm.sigmoid = tune(svm, y~., data = XTrain, kernel = \"sigmoid\", \n",
    "                        ranges = list(cost = c(1, 10, 100, 1000), gamma = c(0.0001, 0.001, 0.01, 0.1)))\n",
    "tune.svm.sigmoid\n",
    "best.svm.sigmoid = tune.svm.sigmoid$best.model\n",
    "best.svm.sigmoid.perf = tune.svm.sigmoid$best.performance"
   ]
  },
  {
   "cell_type": "markdown",
   "metadata": {},
   "source": [
    "### Determination du meilleur modele parmi les differents kernels"
   ]
  },
  {
   "cell_type": "code",
   "execution_count": null,
   "metadata": {},
   "outputs": [],
   "source": [
    "perf = c(best.svm.linear.perf,best.svm.radial.perf,best.svm.poly.perf,best.svm.sigmoid.perf)\n",
    "best.svm.perf = perf[which.min(perf)]\n",
    "cat(\"Taux de mal classes : \")\n",
    "best.svm.perf\n",
    "if (best.svm.perf == tune.svm.linear$best.performance) {\n",
    "    best.svm = best.svm.linear\n",
    "} else if (best.svm.perf == tune.svm.radial$best.performance) {\n",
    "    best.svm = best.svm.radial\n",
    "} else if (best.svm.perf == tune.svm.poly$best.performance) {\n",
    "    best.svm = best.svm.poly\n",
    "} else if (best.svm.perf == tune.svm.sigmoid$best.performance) {\n",
    "    best.svm = best.svm.sigmoid\n",
    "}\n",
    "cat(\"Meilleur modele SVM : \")\n",
    "best.svm"
   ]
  },
  {
   "cell_type": "markdown",
   "metadata": {},
   "source": [
    "### Calcul de l'erreur test"
   ]
  },
  {
   "cell_type": "code",
   "execution_count": null,
   "metadata": {},
   "outputs": [],
   "source": [
    "table(true = XTest$y, pred = predict(best.svm, newdata = XTest))\n",
    "cat(\"\\nErreur de prediction : \\n\")\n",
    "mean(XTest$y != predict(best.svm, newdata = XTest))"
   ]
  },
  {
   "cell_type": "markdown",
   "metadata": {},
   "source": [
    "# Evaluation des methodes par courbes ROC"
   ]
  },
  {
   "cell_type": "code",
   "execution_count": null,
   "metadata": {},
   "outputs": [],
   "source": [
    "### Regression Logistique\n",
    "model_RL = glm(y~., data=XTrain, family = \"binomial\")\n",
    "score.glm = predict(model_RL, newdata = XTest, type = \"response\")\n",
    "\n",
    "### Random forest\n",
    "model_RF = randomForest(y~., data = XTrain, ntree = best.rf.params$ntree, mtry = best.rf.params$mtry)\n",
    "score.rf = predict(model_RF, newdata = XTest, type = \"prob\")\n",
    "\n",
    "\n",
    "### CART\n",
    "# model_CART_non_el = rpart(y~., data = XTrain, control = rpart.control(minsplit = 30, cp = 0, xval = 10))\n",
    "# model_CART = prune(model_CART_non_el, cp = 0.048)\n",
    "model_CART = best.cart\n",
    "score.cart = predict(model_CART, newdata = XTest, type = \"prob\")\n",
    "\n",
    "### SVM\n",
    "if (best.svm$kernel == 0) {\n",
    "    best.svm$kernel = \"linear\"\n",
    "} else if (best.svm$kernel == 1) {\n",
    "    best.svm$kernel = \"polynomial\"\n",
    "}else if (best.svm$kernel == 2) {\n",
    "    best.svm$kernel = \"radial\"\n",
    "}else if (best.svm$kernel == 3) {\n",
    "    best.svm$kernel = \"sigmoid\"\n",
    "}\n",
    "\n",
    "model_svm = svm(y~., data = XTrain, kernel = sprintf(\"%s\", best.svm$kernel), \n",
    "                cost = sprintf(\"%s\", best.svm$cost), \n",
    "                gamma = sprintf(\"%s\", best.svm$gammma), \n",
    "                probability = TRUE, cross = 10)\n",
    "score.svm = predict(model_svm, newdata = XTest, probability = TRUE)\n",
    "score.svm = attr(score.svm, \"probabilities\") # probas de prediction\n",
    "\n",
    "# seuil s\n",
    "s=seq(0,1,.001)\n",
    "\n",
    "# Initialisation RL\n",
    "absc = numeric(length(s))\n",
    "ordo = numeric(length(s))\n",
    "\n",
    "# Initialisation RF\n",
    "absc2 = numeric(length(s))\n",
    "ordo2 = numeric(length(s))\n",
    "\n",
    "# Initialisation CART\n",
    "absc3 = numeric(length(s))\n",
    "ordo3 = numeric(length(s))\n",
    "\n",
    "# Initialisation SVM\n",
    "absc4 = numeric(length(s))\n",
    "ordo4 = numeric(length(s))\n",
    "\n",
    "# Courbe ROC : taux de vrais positifs (TPR) en fonction du taux de faux positifs (FPR)\n",
    "for (i in 1:length(s)){\n",
    "  ordo[i]=sum(score.glm>=s[i] & XTest$y == \"1\")/sum(XTest$y == \"1\")\n",
    "  absc[i]=sum(score.glm>=s[i] & XTest$y == \"0\")/sum(XTest$y == \"0\")\n",
    "  \n",
    "  ordo2[i]=sum(score.rf[,2]>=s[i] & XTest$y == \"1\")/sum(XTest$y == \"1\")\n",
    "  absc2[i]=sum(score.rf[,2]>=s[i] & XTest$y == \"0\")/sum(XTest$y == \"0\")\n",
    "  \n",
    "  ordo3[i]=sum(score.cart[,2]>=s[i] & XTest$y == \"1\")/sum(XTest$y == \"1\")\n",
    "  absc3[i]=sum(score.cart[,2]>=s[i] & XTest$y == \"0\")/sum(XTest$y == \"0\")\n",
    "  \n",
    "  ordo4[i]=sum(score.svm[,2]>=s[i] & XTest$y == \"1\")/sum(XTest$y == \"1\")\n",
    "  absc4[i]=sum(score.svm[,2]>=s[i] & XTest$y == \"0\")/sum(XTest$y == \"0\")\n",
    "}\n",
    "\n",
    "plot(absc,ordo,type = \"l\",xlab=\"Taux de faux positifs\",ylab =\"Taux de vrais positifs\",col=\"red\", \n",
    "     main = \"Courbes ROC\")\n",
    "lines(absc2,ordo2,col=\"blue\")\n",
    "lines(absc3,ordo3,col=\"green\")\n",
    "lines(absc4,ordo4,col=\"orange\")\n",
    "lines(s,s, lty = 2)\n",
    "legend(x = 0.6, y = 0.4, c(\"Logistic Regression\",\"Random Forest\",\"CART\",\"SVM\"), \n",
    "       text.col = c(\"red\",\"blue\",\"green\",\"orange\"))"
   ]
  },
  {
   "cell_type": "markdown",
   "metadata": {},
   "source": [
    "## Calcul des aires sous la courbe ROC"
   ]
  },
  {
   "cell_type": "code",
   "execution_count": null,
   "metadata": {},
   "outputs": [],
   "source": [
    "library(AUC)\n",
    "# creation d'un vecteur temporaire de la variable reponse car la fonction roc ne prend en compte que les labels 0 et 1.\n",
    "yyy = XTest$y\n",
    "levels(yyy)[levels(yyy)==\"-1\"]=\"0\"\n",
    "\n",
    "cat(\"Regression Logistique : \")\n",
    "(auc.glm = auc(roc(score.glm, yyy)))\n",
    "cat(\"\\nRandom Forest : \")\n",
    "(auc.rf = auc(roc(score.rf[,2], yyy)))\n",
    "cat(\"\\nSVM : \")\n",
    "(auc.svm = auc(roc(score.svm[,2], yyy)))\n",
    "cat(\"\\nCART : \")\n",
    "(auc.cart = auc(roc(score.cart[,2], yyy)))\n",
    "\n",
    "auc.best = c(auc.glm, auc.rf, auc.svm, auc.cart)[which.max(c(auc.glm, auc.rf, auc.svm, auc.cart))]"
   ]
  },
  {
   "cell_type": "markdown",
   "metadata": {},
   "source": [
    "# Selection du meilleur modele"
   ]
  },
  {
   "cell_type": "code",
   "execution_count": null,
   "metadata": {},
   "outputs": [],
   "source": [
    "if (auc.best == auc.glm) {\n",
    "    cat(\"\\n Matrice de confusion de la Regression Logistique : \\n\")\n",
    "    table(true = XTest$y, predicted = predict(model_GLM, newdata = XTest))\n",
    "    best.model = model_RL\n",
    "} else if (auc.best == auc.rf) {\n",
    "    cat(\"\\n Matrice de confusion de Random Forest : \\n\")\n",
    "    table(true = XTest$y, predicted = predict(model_RF, newdata = XTest))\n",
    "    best.model = model_RF\n",
    "} else if (auc.best == auc.svm) {\n",
    "    cat(\"\\n Matrice de confusion de SVM : \\n\")\n",
    "    table(true = XTest$y, predicted = predict(model_SVM, newdata = XTest))\n",
    "    best.model = model_svm\n",
    "} else if (auc.best == auc.cart) {\n",
    "    cat(\"\\ Matrice de confusion de CART : \\n\")\n",
    "    table(true = XTest$y, predicted = predict(model_CART, newdata = XTest, type = \"class\"))\n",
    "    best.model = model_CART\n",
    "}"
   ]
  },
  {
   "cell_type": "markdown",
   "metadata": {},
   "source": [
    "# Prediction sur un nouveau dataset en utilisant le meilleur modele"
   ]
  },
  {
   "cell_type": "code",
   "execution_count": null,
   "metadata": {},
   "outputs": [],
   "source": [
    "filepath_test = file.choose(new = FALSE) # dataset sur lequel on veut faire les predictions\n",
    "data_test = read.table(file = filepath_test, header = TRUE, sep = sep)\n",
    "\n",
    "pred.final = predict(best.model, newdata = data_test, type = \"prob\", probability = TRUE)\n",
    "head(pred.final)\n",
    "ypred = pred.final[,2]"
   ]
  },
  {
   "cell_type": "code",
   "execution_count": null,
   "metadata": {},
   "outputs": [],
   "source": [
    "output = readline(prompt = \"Entrer le chemin du fichier de sorties : \" )\n",
    "write.table(ypred, file = output, sep = \"\\t\", fileEncoding = \"utf8\", \n",
    "            row.names = FALSE, col.names = FALSE, dec = \".\", quote = FALSE)"
   ]
  }
 ],
 "metadata": {
  "kernelspec": {
   "display_name": "R",
   "language": "R",
   "name": "ir"
  },
  "language_info": {
   "codemirror_mode": "r",
   "file_extension": ".r",
   "mimetype": "text/x-r-source",
   "name": "R",
   "pygments_lexer": "r",
   "version": "3.5.1"
  }
 },
 "nbformat": 4,
 "nbformat_minor": 2
}
